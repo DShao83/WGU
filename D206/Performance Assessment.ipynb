{
 "cells": [
  {
   "cell_type": "code",
   "execution_count": 1,
   "id": "c76de45d",
   "metadata": {},
   "outputs": [
    {
     "name": "stdout",
     "output_type": "stream",
     "text": [
      "<class 'pandas.core.frame.DataFrame'>\n",
      "Int64Index: 10000 entries, 1 to 10000\n",
      "Data columns (total 52 columns):\n",
      " #   Column              Non-Null Count  Dtype  \n",
      "---  ------              --------------  -----  \n",
      " 0   CaseOrder           10000 non-null  int64  \n",
      " 1   Customer_id         10000 non-null  object \n",
      " 2   Interaction         10000 non-null  object \n",
      " 3   UID                 10000 non-null  object \n",
      " 4   City                10000 non-null  object \n",
      " 5   State               10000 non-null  object \n",
      " 6   County              10000 non-null  object \n",
      " 7   Zip                 10000 non-null  int64  \n",
      " 8   Lat                 10000 non-null  float64\n",
      " 9   Lng                 10000 non-null  float64\n",
      " 10  Population          10000 non-null  int64  \n",
      " 11  Area                10000 non-null  object \n",
      " 12  Timezone            10000 non-null  object \n",
      " 13  Job                 10000 non-null  object \n",
      " 14  Children            7412 non-null   float64\n",
      " 15  Age                 7586 non-null   float64\n",
      " 16  Education           10000 non-null  object \n",
      " 17  Employment          10000 non-null  object \n",
      " 18  Income              7536 non-null   float64\n",
      " 19  Marital             10000 non-null  object \n",
      " 20  Gender              10000 non-null  object \n",
      " 21  ReAdmis             10000 non-null  object \n",
      " 22  VitD_levels         10000 non-null  float64\n",
      " 23  Doc_visits          10000 non-null  int64  \n",
      " 24  Full_meals_eaten    10000 non-null  int64  \n",
      " 25  VitD_supp           10000 non-null  int64  \n",
      " 26  Soft_drink          7533 non-null   object \n",
      " 27  Initial_admin       10000 non-null  object \n",
      " 28  HighBlood           10000 non-null  object \n",
      " 29  Stroke              10000 non-null  object \n",
      " 30  Complication_risk   10000 non-null  object \n",
      " 31  Overweight          9018 non-null   float64\n",
      " 32  Arthritis           10000 non-null  object \n",
      " 33  Diabetes            10000 non-null  object \n",
      " 34  Hyperlipidemia      10000 non-null  object \n",
      " 35  BackPain            10000 non-null  object \n",
      " 36  Anxiety             9016 non-null   float64\n",
      " 37  Allergic_rhinitis   10000 non-null  object \n",
      " 38  Reflux_esophagitis  10000 non-null  object \n",
      " 39  Asthma              10000 non-null  object \n",
      " 40  Services            10000 non-null  object \n",
      " 41  Initial_days        8944 non-null   float64\n",
      " 42  TotalCharge         10000 non-null  float64\n",
      " 43  Additional_charges  10000 non-null  float64\n",
      " 44  Item1               10000 non-null  int64  \n",
      " 45  Item2               10000 non-null  int64  \n",
      " 46  Item3               10000 non-null  int64  \n",
      " 47  Item4               10000 non-null  int64  \n",
      " 48  Item5               10000 non-null  int64  \n",
      " 49  Item6               10000 non-null  int64  \n",
      " 50  Item7               10000 non-null  int64  \n",
      " 51  Item8               10000 non-null  int64  \n",
      "dtypes: float64(11), int64(14), object(27)\n",
      "memory usage: 4.0+ MB\n"
     ]
    }
   ],
   "source": [
    "import pandas as pd\n",
    "import statistics\n",
    "import numpy as np\n",
    "import scipy.stats as stats\n",
    "import matplotlib.pyplot as plt\n",
    "import missingno as msno\n",
    "from sklearn.decomposition import PCA\n",
    "import seaborn as sns\n",
    "\n",
    "file = 'medical_raw_data.csv'\n",
    "\n",
    "df = pd.read_csv(file, index_col = [0])\n",
    "\n",
    "df.info()"
   ]
  },
  {
   "cell_type": "code",
   "execution_count": 2,
   "id": "cb0a30d0",
   "metadata": {},
   "outputs": [
    {
     "data": {
      "text/plain": [
       "1        False\n",
       "2        False\n",
       "3        False\n",
       "4        False\n",
       "5        False\n",
       "         ...  \n",
       "9996     False\n",
       "9997     False\n",
       "9998     False\n",
       "9999     False\n",
       "10000    False\n",
       "Length: 10000, dtype: bool"
      ]
     },
     "execution_count": 2,
     "metadata": {},
     "output_type": "execute_result"
    }
   ],
   "source": [
    "df.duplicated()"
   ]
  },
  {
   "cell_type": "code",
   "execution_count": 3,
   "id": "6373e8b9",
   "metadata": {},
   "outputs": [
    {
     "name": "stdout",
     "output_type": "stream",
     "text": [
      "False    10000\n",
      "dtype: int64\n"
     ]
    }
   ],
   "source": [
    "print(df.duplicated().value_counts())"
   ]
  },
  {
   "cell_type": "code",
   "execution_count": 4,
   "id": "231a8408",
   "metadata": {},
   "outputs": [
    {
     "data": {
      "text/plain": [
       "CaseOrder                0\n",
       "Customer_id              0\n",
       "Interaction              0\n",
       "UID                      0\n",
       "City                     0\n",
       "State                    0\n",
       "County                   0\n",
       "Zip                      0\n",
       "Lat                      0\n",
       "Lng                      0\n",
       "Population               0\n",
       "Area                     0\n",
       "Timezone                 0\n",
       "Job                      0\n",
       "Children              2588\n",
       "Age                   2414\n",
       "Education                0\n",
       "Employment               0\n",
       "Income                2464\n",
       "Marital                  0\n",
       "Gender                   0\n",
       "ReAdmis                  0\n",
       "VitD_levels              0\n",
       "Doc_visits               0\n",
       "Full_meals_eaten         0\n",
       "VitD_supp                0\n",
       "Soft_drink            2467\n",
       "Initial_admin            0\n",
       "HighBlood                0\n",
       "Stroke                   0\n",
       "Complication_risk        0\n",
       "Overweight             982\n",
       "Arthritis                0\n",
       "Diabetes                 0\n",
       "Hyperlipidemia           0\n",
       "BackPain                 0\n",
       "Anxiety                984\n",
       "Allergic_rhinitis        0\n",
       "Reflux_esophagitis       0\n",
       "Asthma                   0\n",
       "Services                 0\n",
       "Initial_days          1056\n",
       "TotalCharge              0\n",
       "Additional_charges       0\n",
       "Item1                    0\n",
       "Item2                    0\n",
       "Item3                    0\n",
       "Item4                    0\n",
       "Item5                    0\n",
       "Item6                    0\n",
       "Item7                    0\n",
       "Item8                    0\n",
       "dtype: int64"
      ]
     },
     "execution_count": 4,
     "metadata": {},
     "output_type": "execute_result"
    }
   ],
   "source": [
    "df.isnull().sum()"
   ]
  },
  {
   "cell_type": "code",
   "execution_count": 5,
   "id": "40ee7f60",
   "metadata": {},
   "outputs": [
    {
     "data": {
      "image/png": "[encoded data removed]",
      "text/plain": [
       "<Figure size 2500x1000 with 2 Axes>"
      ]
     },
     "metadata": {},
     "output_type": "display_data"
    }
   ],
   "source": [
    "msno.matrix(df, labels = True)\n",
    "plt.title('Missing Data Matrix')\n",
    "plt.show()"
   ]
  },
  {
   "cell_type": "code",
   "execution_count": 6,
   "id": "f280879a",
   "metadata": {},
   "outputs": [
    {
     "data": {
      "image/png": "[encoded data removed]",
      "text/plain": [
       "<Figure size 640x480 with 1 Axes>"
      ]
     },
     "metadata": {},
     "output_type": "display_data"
    }
   ],
   "source": [
    "plt.hist(df['Children'])\n",
    "plt.show()"
   ]
  },
  {
   "cell_type": "code",
   "execution_count": 7,
   "id": "5adc7cf7",
   "metadata": {},
   "outputs": [
    {
     "data": {
      "image/png": "[encoded data removed]",
      "text/plain": [
       "<Figure size 640x480 with 1 Axes>"
      ]
     },
     "metadata": {},
     "output_type": "display_data"
    }
   ],
   "source": [
    "plt.hist(df['Age'])\n",
    "plt.show()"
   ]
  },
  {
   "cell_type": "code",
   "execution_count": 8,
   "id": "e95cb9ae",
   "metadata": {},
   "outputs": [
    {
     "data": {
      "image/png": "[encoded data removed]",
      "text/plain": [
       "<Figure size 640x480 with 1 Axes>"
      ]
     },
     "metadata": {},
     "output_type": "display_data"
    }
   ],
   "source": [
    "plt.hist(df['Income'])\n",
    "plt.show()"
   ]
  },
  {
   "cell_type": "code",
   "execution_count": 9,
   "id": "17f8f05c",
   "metadata": {},
   "outputs": [
    {
     "data": {
      "image/png": "[encoded data removed]",
      "text/plain": [
       "<Figure size 640x480 with 1 Axes>"
      ]
     },
     "metadata": {},
     "output_type": "display_data"
    }
   ],
   "source": [
    "plt.hist(df['Initial_days'])\n",
    "plt.show()"
   ]
  },
  {
   "cell_type": "code",
   "execution_count": 10,
   "id": "47e45e66",
   "metadata": {},
   "outputs": [
    {
     "data": {
      "image/png": "[encoded data removed]",
      "text/plain": [
       "<Figure size 640x480 with 1 Axes>"
      ]
     },
     "metadata": {},
     "output_type": "display_data"
    }
   ],
   "source": [
    "plt.hist(df['Overweight'])\n",
    "plt.show()"
   ]
  },
  {
   "cell_type": "code",
   "execution_count": 11,
   "id": "a02d42c5",
   "metadata": {},
   "outputs": [
    {
     "data": {
      "image/png": "[encoded data removed]",
      "text/plain": [
       "<Figure size 640x480 with 1 Axes>"
      ]
     },
     "metadata": {},
     "output_type": "display_data"
    }
   ],
   "source": [
    "plt.hist(df['Anxiety'])\n",
    "plt.show()"
   ]
  },
  {
   "cell_type": "code",
   "execution_count": 12,
   "id": "d50bb3f1",
   "metadata": {},
   "outputs": [
    {
     "data": {
      "text/plain": [
       "<AxesSubplot:>"
      ]
     },
     "execution_count": 12,
     "metadata": {},
     "output_type": "execute_result"
    },
    {
     "data": {
      "image/png": "[encoded data removed]",
      "text/plain": [
       "<Figure size 640x480 with 1 Axes>"
      ]
     },
     "metadata": {},
     "output_type": "display_data"
    }
   ],
   "source": [
    "df['Soft_drink'].value_counts().plot(kind = 'bar')"
   ]
  },
  {
   "cell_type": "code",
   "execution_count": 13,
   "id": "2531a3d6",
   "metadata": {},
   "outputs": [
    {
     "data": {
      "text/html": [
       "<div>\n",
       "<style scoped>\n",
       "    .dataframe tbody tr th:only-of-type {\n",
       "        vertical-align: middle;\n",
       "    }\n",
       "\n",
       "    .dataframe tbody tr th {\n",
       "        vertical-align: top;\n",
       "    }\n",
       "\n",
       "    .dataframe thead th {\n",
       "        text-align: right;\n",
       "    }\n",
       "</style>\n",
       "<table border=\"1\" class=\"dataframe\">\n",
       "  <thead>\n",
       "    <tr style=\"text-align: right;\">\n",
       "      <th></th>\n",
       "      <th>Children</th>\n",
       "      <th>Age</th>\n",
       "      <th>Income</th>\n",
       "      <th>Initial_days</th>\n",
       "      <th>Overweight</th>\n",
       "      <th>Anxiety</th>\n",
       "      <th>Soft_drink</th>\n",
       "    </tr>\n",
       "  </thead>\n",
       "  <tbody>\n",
       "    <tr>\n",
       "      <th>count</th>\n",
       "      <td>7412.000000</td>\n",
       "      <td>7586.000000</td>\n",
       "      <td>7536.000000</td>\n",
       "      <td>8944.000000</td>\n",
       "      <td>9018.000000</td>\n",
       "      <td>9016.000000</td>\n",
       "      <td>7533</td>\n",
       "    </tr>\n",
       "    <tr>\n",
       "      <th>unique</th>\n",
       "      <td>NaN</td>\n",
       "      <td>NaN</td>\n",
       "      <td>NaN</td>\n",
       "      <td>NaN</td>\n",
       "      <td>NaN</td>\n",
       "      <td>NaN</td>\n",
       "      <td>2</td>\n",
       "    </tr>\n",
       "    <tr>\n",
       "      <th>top</th>\n",
       "      <td>NaN</td>\n",
       "      <td>NaN</td>\n",
       "      <td>NaN</td>\n",
       "      <td>NaN</td>\n",
       "      <td>NaN</td>\n",
       "      <td>NaN</td>\n",
       "      <td>No</td>\n",
       "    </tr>\n",
       "    <tr>\n",
       "      <th>freq</th>\n",
       "      <td>NaN</td>\n",
       "      <td>NaN</td>\n",
       "      <td>NaN</td>\n",
       "      <td>NaN</td>\n",
       "      <td>NaN</td>\n",
       "      <td>NaN</td>\n",
       "      <td>5589</td>\n",
       "    </tr>\n",
       "    <tr>\n",
       "      <th>mean</th>\n",
       "      <td>2.098219</td>\n",
       "      <td>53.295676</td>\n",
       "      <td>40484.438268</td>\n",
       "      <td>34.432082</td>\n",
       "      <td>0.709137</td>\n",
       "      <td>0.322316</td>\n",
       "      <td>NaN</td>\n",
       "    </tr>\n",
       "    <tr>\n",
       "      <th>std</th>\n",
       "      <td>2.155427</td>\n",
       "      <td>20.659182</td>\n",
       "      <td>28664.861050</td>\n",
       "      <td>26.287050</td>\n",
       "      <td>0.454186</td>\n",
       "      <td>0.467389</td>\n",
       "      <td>NaN</td>\n",
       "    </tr>\n",
       "    <tr>\n",
       "      <th>min</th>\n",
       "      <td>0.000000</td>\n",
       "      <td>18.000000</td>\n",
       "      <td>154.080000</td>\n",
       "      <td>1.001981</td>\n",
       "      <td>0.000000</td>\n",
       "      <td>0.000000</td>\n",
       "      <td>NaN</td>\n",
       "    </tr>\n",
       "    <tr>\n",
       "      <th>25%</th>\n",
       "      <td>0.000000</td>\n",
       "      <td>35.000000</td>\n",
       "      <td>19450.792500</td>\n",
       "      <td>7.911709</td>\n",
       "      <td>0.000000</td>\n",
       "      <td>0.000000</td>\n",
       "      <td>NaN</td>\n",
       "    </tr>\n",
       "    <tr>\n",
       "      <th>50%</th>\n",
       "      <td>1.000000</td>\n",
       "      <td>53.000000</td>\n",
       "      <td>33942.280000</td>\n",
       "      <td>34.446941</td>\n",
       "      <td>1.000000</td>\n",
       "      <td>0.000000</td>\n",
       "      <td>NaN</td>\n",
       "    </tr>\n",
       "    <tr>\n",
       "      <th>75%</th>\n",
       "      <td>3.000000</td>\n",
       "      <td>71.000000</td>\n",
       "      <td>54075.235000</td>\n",
       "      <td>61.124654</td>\n",
       "      <td>1.000000</td>\n",
       "      <td>1.000000</td>\n",
       "      <td>NaN</td>\n",
       "    </tr>\n",
       "    <tr>\n",
       "      <th>max</th>\n",
       "      <td>10.000000</td>\n",
       "      <td>89.000000</td>\n",
       "      <td>207249.130000</td>\n",
       "      <td>71.981486</td>\n",
       "      <td>1.000000</td>\n",
       "      <td>1.000000</td>\n",
       "      <td>NaN</td>\n",
       "    </tr>\n",
       "  </tbody>\n",
       "</table>\n",
       "</div>"
      ],
      "text/plain": [
       "           Children          Age         Income  Initial_days   Overweight  \\\n",
       "count   7412.000000  7586.000000    7536.000000   8944.000000  9018.000000   \n",
       "unique          NaN          NaN            NaN           NaN          NaN   \n",
       "top             NaN          NaN            NaN           NaN          NaN   \n",
       "freq            NaN          NaN            NaN           NaN          NaN   \n",
       "mean       2.098219    53.295676   40484.438268     34.432082     0.709137   \n",
       "std        2.155427    20.659182   28664.861050     26.287050     0.454186   \n",
       "min        0.000000    18.000000     154.080000      1.001981     0.000000   \n",
       "25%        0.000000    35.000000   19450.792500      7.911709     0.000000   \n",
       "50%        1.000000    53.000000   33942.280000     34.446941     1.000000   \n",
       "75%        3.000000    71.000000   54075.235000     61.124654     1.000000   \n",
       "max       10.000000    89.000000  207249.130000     71.981486     1.000000   \n",
       "\n",
       "            Anxiety Soft_drink  \n",
       "count   9016.000000       7533  \n",
       "unique          NaN          2  \n",
       "top             NaN         No  \n",
       "freq            NaN       5589  \n",
       "mean       0.322316        NaN  \n",
       "std        0.467389        NaN  \n",
       "min        0.000000        NaN  \n",
       "25%        0.000000        NaN  \n",
       "50%        0.000000        NaN  \n",
       "75%        1.000000        NaN  \n",
       "max        1.000000        NaN  "
      ]
     },
     "execution_count": 13,
     "metadata": {},
     "output_type": "execute_result"
    }
   ],
   "source": [
    "df[['Children','Age','Income','Initial_days','Overweight','Anxiety','Soft_drink']].describe(include = 'all')"
   ]
  },
  {
   "cell_type": "code",
   "execution_count": 14,
   "id": "b534180a",
   "metadata": {},
   "outputs": [
    {
     "data": {
      "text/plain": [
       "Children            1.000000\n",
       "Age                53.000000\n",
       "Income          33942.280000\n",
       "Initial_days       34.446941\n",
       "Overweight          1.000000\n",
       "Anxiety             0.000000\n",
       "dtype: float64"
      ]
     },
     "execution_count": 14,
     "metadata": {},
     "output_type": "execute_result"
    }
   ],
   "source": [
    "df[['Children','Age','Income','Initial_days','Overweight','Anxiety']].median()"
   ]
  },
  {
   "cell_type": "code",
   "execution_count": 15,
   "id": "66e58560",
   "metadata": {},
   "outputs": [],
   "source": [
    "df['Children'].fillna(df['Children'].median(), inplace = True)\n",
    "df['Age'].fillna(df['Age'].mean(), inplace = True)\n",
    "df['Income'].fillna(df['Income'].median(), inplace = True)\n",
    "df['Initial_days'].fillna(df['Initial_days'].median(), inplace = True)\n",
    "df['Overweight'] = df['Overweight'].fillna(df['Overweight'].mode()[0])\n",
    "df['Anxiety'] = df['Anxiety'].fillna(df['Anxiety'].mode()[0])\n",
    "df['Soft_drink'] = df['Soft_drink'].fillna(df['Soft_drink'].mode()[0])"
   ]
  },
  {
   "cell_type": "code",
   "execution_count": 16,
   "id": "5a1b18fc",
   "metadata": {},
   "outputs": [
    {
     "data": {
      "text/html": [
       "<div>\n",
       "<style scoped>\n",
       "    .dataframe tbody tr th:only-of-type {\n",
       "        vertical-align: middle;\n",
       "    }\n",
       "\n",
       "    .dataframe tbody tr th {\n",
       "        vertical-align: top;\n",
       "    }\n",
       "\n",
       "    .dataframe thead th {\n",
       "        text-align: right;\n",
       "    }\n",
       "</style>\n",
       "<table border=\"1\" class=\"dataframe\">\n",
       "  <thead>\n",
       "    <tr style=\"text-align: right;\">\n",
       "      <th></th>\n",
       "      <th>Children</th>\n",
       "      <th>Age</th>\n",
       "      <th>Income</th>\n",
       "      <th>Initial_days</th>\n",
       "      <th>Overweight</th>\n",
       "      <th>Anxiety</th>\n",
       "      <th>Soft_drink</th>\n",
       "    </tr>\n",
       "  </thead>\n",
       "  <tbody>\n",
       "    <tr>\n",
       "      <th>count</th>\n",
       "      <td>10000.000000</td>\n",
       "      <td>10000.000000</td>\n",
       "      <td>10000.000000</td>\n",
       "      <td>10000.000000</td>\n",
       "      <td>10000.000000</td>\n",
       "      <td>10000.000000</td>\n",
       "      <td>10000</td>\n",
       "    </tr>\n",
       "    <tr>\n",
       "      <th>unique</th>\n",
       "      <td>NaN</td>\n",
       "      <td>NaN</td>\n",
       "      <td>NaN</td>\n",
       "      <td>NaN</td>\n",
       "      <td>NaN</td>\n",
       "      <td>NaN</td>\n",
       "      <td>2</td>\n",
       "    </tr>\n",
       "    <tr>\n",
       "      <th>top</th>\n",
       "      <td>NaN</td>\n",
       "      <td>NaN</td>\n",
       "      <td>NaN</td>\n",
       "      <td>NaN</td>\n",
       "      <td>NaN</td>\n",
       "      <td>NaN</td>\n",
       "      <td>No</td>\n",
       "    </tr>\n",
       "    <tr>\n",
       "      <th>freq</th>\n",
       "      <td>NaN</td>\n",
       "      <td>NaN</td>\n",
       "      <td>NaN</td>\n",
       "      <td>NaN</td>\n",
       "      <td>NaN</td>\n",
       "      <td>NaN</td>\n",
       "      <td>8056</td>\n",
       "    </tr>\n",
       "    <tr>\n",
       "      <th>mean</th>\n",
       "      <td>1.814000</td>\n",
       "      <td>53.295676</td>\n",
       "      <td>38872.450471</td>\n",
       "      <td>34.433651</td>\n",
       "      <td>0.737700</td>\n",
       "      <td>0.290600</td>\n",
       "      <td>NaN</td>\n",
       "    </tr>\n",
       "    <tr>\n",
       "      <th>std</th>\n",
       "      <td>1.916969</td>\n",
       "      <td>17.993375</td>\n",
       "      <td>25042.796229</td>\n",
       "      <td>24.860232</td>\n",
       "      <td>0.439907</td>\n",
       "      <td>0.454062</td>\n",
       "      <td>NaN</td>\n",
       "    </tr>\n",
       "    <tr>\n",
       "      <th>min</th>\n",
       "      <td>0.000000</td>\n",
       "      <td>18.000000</td>\n",
       "      <td>154.080000</td>\n",
       "      <td>1.001981</td>\n",
       "      <td>0.000000</td>\n",
       "      <td>0.000000</td>\n",
       "      <td>NaN</td>\n",
       "    </tr>\n",
       "    <tr>\n",
       "      <th>25%</th>\n",
       "      <td>1.000000</td>\n",
       "      <td>41.000000</td>\n",
       "      <td>23956.162500</td>\n",
       "      <td>8.928987</td>\n",
       "      <td>0.000000</td>\n",
       "      <td>0.000000</td>\n",
       "      <td>NaN</td>\n",
       "    </tr>\n",
       "    <tr>\n",
       "      <th>50%</th>\n",
       "      <td>1.000000</td>\n",
       "      <td>53.295676</td>\n",
       "      <td>33942.280000</td>\n",
       "      <td>34.446941</td>\n",
       "      <td>1.000000</td>\n",
       "      <td>0.000000</td>\n",
       "      <td>NaN</td>\n",
       "    </tr>\n",
       "    <tr>\n",
       "      <th>75%</th>\n",
       "      <td>3.000000</td>\n",
       "      <td>65.000000</td>\n",
       "      <td>46466.797500</td>\n",
       "      <td>59.459981</td>\n",
       "      <td>1.000000</td>\n",
       "      <td>1.000000</td>\n",
       "      <td>NaN</td>\n",
       "    </tr>\n",
       "    <tr>\n",
       "      <th>max</th>\n",
       "      <td>10.000000</td>\n",
       "      <td>89.000000</td>\n",
       "      <td>207249.130000</td>\n",
       "      <td>71.981486</td>\n",
       "      <td>1.000000</td>\n",
       "      <td>1.000000</td>\n",
       "      <td>NaN</td>\n",
       "    </tr>\n",
       "  </tbody>\n",
       "</table>\n",
       "</div>"
      ],
      "text/plain": [
       "            Children           Age         Income  Initial_days    Overweight  \\\n",
       "count   10000.000000  10000.000000   10000.000000  10000.000000  10000.000000   \n",
       "unique           NaN           NaN            NaN           NaN           NaN   \n",
       "top              NaN           NaN            NaN           NaN           NaN   \n",
       "freq             NaN           NaN            NaN           NaN           NaN   \n",
       "mean        1.814000     53.295676   38872.450471     34.433651      0.737700   \n",
       "std         1.916969     17.993375   25042.796229     24.860232      0.439907   \n",
       "min         0.000000     18.000000     154.080000      1.001981      0.000000   \n",
       "25%         1.000000     41.000000   23956.162500      8.928987      0.000000   \n",
       "50%         1.000000     53.295676   33942.280000     34.446941      1.000000   \n",
       "75%         3.000000     65.000000   46466.797500     59.459981      1.000000   \n",
       "max        10.000000     89.000000  207249.130000     71.981486      1.000000   \n",
       "\n",
       "             Anxiety Soft_drink  \n",
       "count   10000.000000      10000  \n",
       "unique           NaN          2  \n",
       "top              NaN         No  \n",
       "freq             NaN       8056  \n",
       "mean        0.290600        NaN  \n",
       "std         0.454062        NaN  \n",
       "min         0.000000        NaN  \n",
       "25%         0.000000        NaN  \n",
       "50%         0.000000        NaN  \n",
       "75%         1.000000        NaN  \n",
       "max         1.000000        NaN  "
      ]
     },
     "execution_count": 16,
     "metadata": {},
     "output_type": "execute_result"
    }
   ],
   "source": [
    "df[['Children','Age','Income','Initial_days','Overweight','Anxiety','Soft_drink']].describe(include = 'all')"
   ]
  },
  {
   "cell_type": "code",
   "execution_count": 17,
   "id": "87c9b590",
   "metadata": {},
   "outputs": [
    {
     "data": {
      "text/plain": [
       "Children            1.000000\n",
       "Age                53.295676\n",
       "Income          33942.280000\n",
       "Initial_days       34.446941\n",
       "Overweight          1.000000\n",
       "Anxiety             0.000000\n",
       "dtype: float64"
      ]
     },
     "execution_count": 17,
     "metadata": {},
     "output_type": "execute_result"
    }
   ],
   "source": [
    "df[['Children','Age','Income','Initial_days','Overweight','Anxiety']].median()"
   ]
  },
  {
   "cell_type": "code",
   "execution_count": 18,
   "id": "c5b3fbe7",
   "metadata": {},
   "outputs": [
    {
     "data": {
      "image/png": "[encoded data removed]",
      "text/plain": [
       "<Figure size 640x480 with 1 Axes>"
      ]
     },
     "metadata": {},
     "output_type": "display_data"
    }
   ],
   "source": [
    "plt.hist(df['Children'])\n",
    "plt.show()"
   ]
  },
  {
   "cell_type": "code",
   "execution_count": 19,
   "id": "316cd95c",
   "metadata": {},
   "outputs": [
    {
     "data": {
      "image/png": "[encoded data removed]",
      "text/plain": [
       "<Figure size 640x480 with 1 Axes>"
      ]
     },
     "metadata": {},
     "output_type": "display_data"
    }
   ],
   "source": [
    "plt.hist(df['Age'])\n",
    "plt.show()"
   ]
  },
  {
   "cell_type": "code",
   "execution_count": 20,
   "id": "4a6743ac",
   "metadata": {},
   "outputs": [
    {
     "data": {
      "image/png": "[encoded data removed]",
      "text/plain": [
       "<Figure size 640x480 with 1 Axes>"
      ]
     },
     "metadata": {},
     "output_type": "display_data"
    }
   ],
   "source": [
    "plt.hist(df['Income'])\n",
    "plt.show()"
   ]
  },
  {
   "cell_type": "code",
   "execution_count": 21,
   "id": "d840cd85",
   "metadata": {},
   "outputs": [
    {
     "data": {
      "image/png": "[encoded data removed]",
      "text/plain": [
       "<Figure size 640x480 with 1 Axes>"
      ]
     },
     "metadata": {},
     "output_type": "display_data"
    }
   ],
   "source": [
    "plt.hist(df['Initial_days'])\n",
    "plt.show()"
   ]
  },
  {
   "cell_type": "code",
   "execution_count": 22,
   "id": "65be9870",
   "metadata": {},
   "outputs": [
    {
     "data": {
      "image/png": "[encoded data removed]",
      "text/plain": [
       "<Figure size 640x480 with 1 Axes>"
      ]
     },
     "metadata": {},
     "output_type": "display_data"
    }
   ],
   "source": [
    "plt.hist(df['Overweight'])\n",
    "plt.show()"
   ]
  },
  {
   "cell_type": "code",
   "execution_count": 23,
   "id": "1982fdc4",
   "metadata": {},
   "outputs": [
    {
     "data": {
      "image/png": "[encoded data removed]",
      "text/plain": [
       "<Figure size 640x480 with 1 Axes>"
      ]
     },
     "metadata": {},
     "output_type": "display_data"
    }
   ],
   "source": [
    "plt.hist(df['Anxiety'])\n",
    "plt.show()"
   ]
  },
  {
   "cell_type": "code",
   "execution_count": 24,
   "id": "b74c1def",
   "metadata": {},
   "outputs": [
    {
     "data": {
      "text/plain": [
       "<AxesSubplot:>"
      ]
     },
     "execution_count": 24,
     "metadata": {},
     "output_type": "execute_result"
    },
    {
     "data": {
      "image/png": "[encoded data removed]",
      "text/plain": [
       "<Figure size 640x480 with 1 Axes>"
      ]
     },
     "metadata": {},
     "output_type": "display_data"
    }
   ],
   "source": [
    "df['Soft_drink'].value_counts().plot(kind = 'bar')"
   ]
  },
  {
   "cell_type": "code",
   "execution_count": 25,
   "id": "cc3d3901",
   "metadata": {},
   "outputs": [
    {
     "data": {
      "image/png": "[encoded data removed]",
      "text/plain": [
       "<Figure size 640x480 with 1 Axes>"
      ]
     },
     "metadata": {},
     "output_type": "display_data"
    }
   ],
   "source": [
    "boxplot = sns.boxplot(x='Children', data=df)"
   ]
  },
  {
   "cell_type": "code",
   "execution_count": 26,
   "id": "422b0dee",
   "metadata": {},
   "outputs": [
    {
     "data": {
      "text/html": [
       "<div>\n",
       "<style scoped>\n",
       "    .dataframe tbody tr th:only-of-type {\n",
       "        vertical-align: middle;\n",
       "    }\n",
       "\n",
       "    .dataframe tbody tr th {\n",
       "        vertical-align: top;\n",
       "    }\n",
       "\n",
       "    .dataframe thead th {\n",
       "        text-align: right;\n",
       "    }\n",
       "</style>\n",
       "<table border=\"1\" class=\"dataframe\">\n",
       "  <thead>\n",
       "    <tr style=\"text-align: right;\">\n",
       "      <th></th>\n",
       "      <th>Children</th>\n",
       "      <th>Z_Score_Children</th>\n",
       "    </tr>\n",
       "  </thead>\n",
       "  <tbody>\n",
       "    <tr>\n",
       "      <th>1</th>\n",
       "      <td>1.0</td>\n",
       "      <td>-0.424650</td>\n",
       "    </tr>\n",
       "    <tr>\n",
       "      <th>2</th>\n",
       "      <td>3.0</td>\n",
       "      <td>0.618716</td>\n",
       "    </tr>\n",
       "    <tr>\n",
       "      <th>3</th>\n",
       "      <td>3.0</td>\n",
       "      <td>0.618716</td>\n",
       "    </tr>\n",
       "    <tr>\n",
       "      <th>4</th>\n",
       "      <td>0.0</td>\n",
       "      <td>-0.946333</td>\n",
       "    </tr>\n",
       "    <tr>\n",
       "      <th>5</th>\n",
       "      <td>1.0</td>\n",
       "      <td>-0.424650</td>\n",
       "    </tr>\n",
       "  </tbody>\n",
       "</table>\n",
       "</div>"
      ],
      "text/plain": [
       "   Children  Z_Score_Children\n",
       "1       1.0         -0.424650\n",
       "2       3.0          0.618716\n",
       "3       3.0          0.618716\n",
       "4       0.0         -0.946333\n",
       "5       1.0         -0.424650"
      ]
     },
     "execution_count": 26,
     "metadata": {},
     "output_type": "execute_result"
    }
   ],
   "source": [
    "df['Z_Score_Children'] = stats.zscore(df['Children'])\n",
    "df[['Children','Z_Score_Children']].head()"
   ]
  },
  {
   "cell_type": "code",
   "execution_count": 27,
   "id": "c2f356ec",
   "metadata": {},
   "outputs": [
    {
     "data": {
      "image/png": "[encoded data removed]",
      "text/plain": [
       "<Figure size 640x480 with 1 Axes>"
      ]
     },
     "metadata": {},
     "output_type": "display_data"
    }
   ],
   "source": [
    "plt.hist(df['Z_Score_Children'])\n",
    "plt.show()"
   ]
  },
  {
   "cell_type": "code",
   "execution_count": 28,
   "id": "7fa5f54d",
   "metadata": {},
   "outputs": [
    {
     "name": "stdout",
     "output_type": "stream",
     "text": [
      "<class 'pandas.core.frame.DataFrame'>\n",
      "Int64Index: 457 entries, 8 to 10000\n",
      "Data columns (total 53 columns):\n",
      " #   Column              Non-Null Count  Dtype  \n",
      "---  ------              --------------  -----  \n",
      " 0   CaseOrder           457 non-null    int64  \n",
      " 1   Customer_id         457 non-null    object \n",
      " 2   Interaction         457 non-null    object \n",
      " 3   UID                 457 non-null    object \n",
      " 4   City                457 non-null    object \n",
      " 5   State               457 non-null    object \n",
      " 6   County              457 non-null    object \n",
      " 7   Zip                 457 non-null    int64  \n",
      " 8   Lat                 457 non-null    float64\n",
      " 9   Lng                 457 non-null    float64\n",
      " 10  Population          457 non-null    int64  \n",
      " 11  Area                457 non-null    object \n",
      " 12  Timezone            457 non-null    object \n",
      " 13  Job                 457 non-null    object \n",
      " 14  Children            457 non-null    float64\n",
      " 15  Age                 457 non-null    float64\n",
      " 16  Education           457 non-null    object \n",
      " 17  Employment          457 non-null    object \n",
      " 18  Income              457 non-null    float64\n",
      " 19  Marital             457 non-null    object \n",
      " 20  Gender              457 non-null    object \n",
      " 21  ReAdmis             457 non-null    object \n",
      " 22  VitD_levels         457 non-null    float64\n",
      " 23  Doc_visits          457 non-null    int64  \n",
      " 24  Full_meals_eaten    457 non-null    int64  \n",
      " 25  VitD_supp           457 non-null    int64  \n",
      " 26  Soft_drink          457 non-null    object \n",
      " 27  Initial_admin       457 non-null    object \n",
      " 28  HighBlood           457 non-null    object \n",
      " 29  Stroke              457 non-null    object \n",
      " 30  Complication_risk   457 non-null    object \n",
      " 31  Overweight          457 non-null    float64\n",
      " 32  Arthritis           457 non-null    object \n",
      " 33  Diabetes            457 non-null    object \n",
      " 34  Hyperlipidemia      457 non-null    object \n",
      " 35  BackPain            457 non-null    object \n",
      " 36  Anxiety             457 non-null    float64\n",
      " 37  Allergic_rhinitis   457 non-null    object \n",
      " 38  Reflux_esophagitis  457 non-null    object \n",
      " 39  Asthma              457 non-null    object \n",
      " 40  Services            457 non-null    object \n",
      " 41  Initial_days        457 non-null    float64\n",
      " 42  TotalCharge         457 non-null    float64\n",
      " 43  Additional_charges  457 non-null    float64\n",
      " 44  Item1               457 non-null    int64  \n",
      " 45  Item2               457 non-null    int64  \n",
      " 46  Item3               457 non-null    int64  \n",
      " 47  Item4               457 non-null    int64  \n",
      " 48  Item5               457 non-null    int64  \n",
      " 49  Item6               457 non-null    int64  \n",
      " 50  Item7               457 non-null    int64  \n",
      " 51  Item8               457 non-null    int64  \n",
      " 52  Z_Score_Children    457 non-null    float64\n",
      "dtypes: float64(12), int64(14), object(27)\n",
      "memory usage: 192.8+ KB\n"
     ]
    }
   ],
   "source": [
    "children_query = df.query('Children > 6')\n",
    "children_query.info()"
   ]
  },
  {
   "cell_type": "code",
   "execution_count": 29,
   "id": "b551261d",
   "metadata": {},
   "outputs": [
    {
     "name": "stdout",
     "output_type": "stream",
     "text": [
      "<class 'pandas.core.frame.DataFrame'>\n",
      "Int64Index: 10000 entries, 1 to 10000\n",
      "Data columns (total 53 columns):\n",
      " #   Column              Non-Null Count  Dtype  \n",
      "---  ------              --------------  -----  \n",
      " 0   CaseOrder           10000 non-null  int64  \n",
      " 1   Customer_id         10000 non-null  object \n",
      " 2   Interaction         10000 non-null  object \n",
      " 3   UID                 10000 non-null  object \n",
      " 4   City                10000 non-null  object \n",
      " 5   State               10000 non-null  object \n",
      " 6   County              10000 non-null  object \n",
      " 7   Zip                 10000 non-null  int64  \n",
      " 8   Lat                 10000 non-null  float64\n",
      " 9   Lng                 10000 non-null  float64\n",
      " 10  Population          10000 non-null  int64  \n",
      " 11  Area                10000 non-null  object \n",
      " 12  Timezone            10000 non-null  object \n",
      " 13  Job                 10000 non-null  object \n",
      " 14  Children            10000 non-null  float64\n",
      " 15  Age                 10000 non-null  float64\n",
      " 16  Education           10000 non-null  object \n",
      " 17  Employment          10000 non-null  object \n",
      " 18  Income              10000 non-null  float64\n",
      " 19  Marital             10000 non-null  object \n",
      " 20  Gender              10000 non-null  object \n",
      " 21  ReAdmis             10000 non-null  object \n",
      " 22  VitD_levels         10000 non-null  float64\n",
      " 23  Doc_visits          10000 non-null  int64  \n",
      " 24  Full_meals_eaten    10000 non-null  int64  \n",
      " 25  VitD_supp           10000 non-null  int64  \n",
      " 26  Soft_drink          10000 non-null  object \n",
      " 27  Initial_admin       10000 non-null  object \n",
      " 28  HighBlood           10000 non-null  object \n",
      " 29  Stroke              10000 non-null  object \n",
      " 30  Complication_risk   10000 non-null  object \n",
      " 31  Overweight          10000 non-null  float64\n",
      " 32  Arthritis           10000 non-null  object \n",
      " 33  Diabetes            10000 non-null  object \n",
      " 34  Hyperlipidemia      10000 non-null  object \n",
      " 35  BackPain            10000 non-null  object \n",
      " 36  Anxiety             10000 non-null  float64\n",
      " 37  Allergic_rhinitis   10000 non-null  object \n",
      " 38  Reflux_esophagitis  10000 non-null  object \n",
      " 39  Asthma              10000 non-null  object \n",
      " 40  Services            10000 non-null  object \n",
      " 41  Initial_days        10000 non-null  float64\n",
      " 42  TotalCharge         10000 non-null  float64\n",
      " 43  Additional_charges  10000 non-null  float64\n",
      " 44  Item1               10000 non-null  int64  \n",
      " 45  Item2               10000 non-null  int64  \n",
      " 46  Item3               10000 non-null  int64  \n",
      " 47  Item4               10000 non-null  int64  \n",
      " 48  Item5               10000 non-null  int64  \n",
      " 49  Item6               10000 non-null  int64  \n",
      " 50  Item7               10000 non-null  int64  \n",
      " 51  Item8               10000 non-null  int64  \n",
      " 52  Z_Score_Children    10000 non-null  float64\n",
      "dtypes: float64(12), int64(14), object(27)\n",
      "memory usage: 4.1+ MB\n"
     ]
    }
   ],
   "source": [
    "df['Children'] = np.where(df['Children'] > 6, np.nan, df['Children'])\n",
    "df['Children'].fillna(df['Children'].median(), inplace = True)\n",
    "df.info()"
   ]
  },
  {
   "cell_type": "code",
   "execution_count": 30,
   "id": "59ca90eb",
   "metadata": {},
   "outputs": [
    {
     "data": {
      "image/png": "[encoded data removed]",
      "text/plain": [
       "<Figure size 640x480 with 1 Axes>"
      ]
     },
     "metadata": {},
     "output_type": "display_data"
    }
   ],
   "source": [
    "boxplot = sns.boxplot(x='Children', data=df)"
   ]
  },
  {
   "cell_type": "code",
   "execution_count": 31,
   "id": "cae41293",
   "metadata": {},
   "outputs": [
    {
     "data": {
      "image/png": "[encoded data removed]",
      "text/plain": [
       "<Figure size 640x480 with 1 Axes>"
      ]
     },
     "metadata": {},
     "output_type": "display_data"
    }
   ],
   "source": [
    "plt.hist(df['Children'])\n",
    "plt.show()"
   ]
  },
  {
   "cell_type": "code",
   "execution_count": 32,
   "id": "39a968b0",
   "metadata": {},
   "outputs": [
    {
     "data": {
      "text/html": [
       "<div>\n",
       "<style scoped>\n",
       "    .dataframe tbody tr th:only-of-type {\n",
       "        vertical-align: middle;\n",
       "    }\n",
       "\n",
       "    .dataframe tbody tr th {\n",
       "        vertical-align: top;\n",
       "    }\n",
       "\n",
       "    .dataframe thead th {\n",
       "        text-align: right;\n",
       "    }\n",
       "</style>\n",
       "<table border=\"1\" class=\"dataframe\">\n",
       "  <thead>\n",
       "    <tr style=\"text-align: right;\">\n",
       "      <th></th>\n",
       "      <th>Children</th>\n",
       "      <th>Z_Score_Children</th>\n",
       "    </tr>\n",
       "  </thead>\n",
       "  <tbody>\n",
       "    <tr>\n",
       "      <th>1</th>\n",
       "      <td>1.0</td>\n",
       "      <td>-0.371147</td>\n",
       "    </tr>\n",
       "    <tr>\n",
       "      <th>2</th>\n",
       "      <td>3.0</td>\n",
       "      <td>1.148078</td>\n",
       "    </tr>\n",
       "    <tr>\n",
       "      <th>3</th>\n",
       "      <td>3.0</td>\n",
       "      <td>1.148078</td>\n",
       "    </tr>\n",
       "    <tr>\n",
       "      <th>4</th>\n",
       "      <td>0.0</td>\n",
       "      <td>-1.130759</td>\n",
       "    </tr>\n",
       "    <tr>\n",
       "      <th>5</th>\n",
       "      <td>1.0</td>\n",
       "      <td>-0.371147</td>\n",
       "    </tr>\n",
       "  </tbody>\n",
       "</table>\n",
       "</div>"
      ],
      "text/plain": [
       "   Children  Z_Score_Children\n",
       "1       1.0         -0.371147\n",
       "2       3.0          1.148078\n",
       "3       3.0          1.148078\n",
       "4       0.0         -1.130759\n",
       "5       1.0         -0.371147"
      ]
     },
     "execution_count": 32,
     "metadata": {},
     "output_type": "execute_result"
    }
   ],
   "source": [
    "df['Z_Score_Children'] = stats.zscore(df['Children'])\n",
    "df[['Children','Z_Score_Children']].head()"
   ]
  },
  {
   "cell_type": "code",
   "execution_count": 33,
   "id": "753c2616",
   "metadata": {},
   "outputs": [
    {
     "data": {
      "text/plain": [
       "1.0    4903\n",
       "0.0    1880\n",
       "3.0    1113\n",
       "2.0    1094\n",
       "4.0     739\n",
       "6.0     145\n",
       "5.0     126\n",
       "Name: Children, dtype: int64"
      ]
     },
     "execution_count": 33,
     "metadata": {},
     "output_type": "execute_result"
    }
   ],
   "source": [
    "df['Children'].value_counts()"
   ]
  },
  {
   "cell_type": "code",
   "execution_count": 34,
   "id": "d70a1535",
   "metadata": {},
   "outputs": [
    {
     "data": {
      "image/png": "[encoded data removed]",
      "text/plain": [
       "<Figure size 640x480 with 1 Axes>"
      ]
     },
     "metadata": {},
     "output_type": "display_data"
    }
   ],
   "source": [
    "plt.hist(df['Z_Score_Children'])\n",
    "plt.show()"
   ]
  },
  {
   "cell_type": "code",
   "execution_count": 35,
   "id": "6aff13fc",
   "metadata": {},
   "outputs": [
    {
     "data": {
      "image/png": "[encoded data removed]",
      "text/plain": [
       "<Figure size 640x480 with 1 Axes>"
      ]
     },
     "metadata": {},
     "output_type": "display_data"
    }
   ],
   "source": [
    "boxplot = sns.boxplot(x='Age', data=df)"
   ]
  },
  {
   "cell_type": "code",
   "execution_count": 36,
   "id": "1abf66e8",
   "metadata": {},
   "outputs": [
    {
     "data": {
      "text/html": [
       "<div>\n",
       "<style scoped>\n",
       "    .dataframe tbody tr th:only-of-type {\n",
       "        vertical-align: middle;\n",
       "    }\n",
       "\n",
       "    .dataframe tbody tr th {\n",
       "        vertical-align: top;\n",
       "    }\n",
       "\n",
       "    .dataframe thead th {\n",
       "        text-align: right;\n",
       "    }\n",
       "</style>\n",
       "<table border=\"1\" class=\"dataframe\">\n",
       "  <thead>\n",
       "    <tr style=\"text-align: right;\">\n",
       "      <th></th>\n",
       "      <th>Age</th>\n",
       "      <th>Z_Score_Age</th>\n",
       "    </tr>\n",
       "  </thead>\n",
       "  <tbody>\n",
       "    <tr>\n",
       "      <th>1</th>\n",
       "      <td>53.0</td>\n",
       "      <td>-0.016433</td>\n",
       "    </tr>\n",
       "    <tr>\n",
       "      <th>2</th>\n",
       "      <td>51.0</td>\n",
       "      <td>-0.127591</td>\n",
       "    </tr>\n",
       "    <tr>\n",
       "      <th>3</th>\n",
       "      <td>53.0</td>\n",
       "      <td>-0.016433</td>\n",
       "    </tr>\n",
       "    <tr>\n",
       "      <th>4</th>\n",
       "      <td>78.0</td>\n",
       "      <td>1.373036</td>\n",
       "    </tr>\n",
       "    <tr>\n",
       "      <th>5</th>\n",
       "      <td>22.0</td>\n",
       "      <td>-1.739376</td>\n",
       "    </tr>\n",
       "  </tbody>\n",
       "</table>\n",
       "</div>"
      ],
      "text/plain": [
       "    Age  Z_Score_Age\n",
       "1  53.0    -0.016433\n",
       "2  51.0    -0.127591\n",
       "3  53.0    -0.016433\n",
       "4  78.0     1.373036\n",
       "5  22.0    -1.739376"
      ]
     },
     "execution_count": 36,
     "metadata": {},
     "output_type": "execute_result"
    }
   ],
   "source": [
    "df['Z_Score_Age'] = stats.zscore(df['Age'])\n",
    "df[['Age','Z_Score_Age']].head()"
   ]
  },
  {
   "cell_type": "code",
   "execution_count": 37,
   "id": "9e4250a6",
   "metadata": {},
   "outputs": [
    {
     "data": {
      "image/png": "[encoded data removed]",
      "text/plain": [
       "<Figure size 640x480 with 1 Axes>"
      ]
     },
     "metadata": {},
     "output_type": "display_data"
    }
   ],
   "source": [
    "plt.hist(df['Z_Score_Age'])\n",
    "plt.show()"
   ]
  },
  {
   "cell_type": "code",
   "execution_count": 38,
   "id": "8019742f",
   "metadata": {},
   "outputs": [
    {
     "data": {
      "image/png": "[encoded data removed]",
      "text/plain": [
       "<Figure size 640x480 with 1 Axes>"
      ]
     },
     "metadata": {},
     "output_type": "display_data"
    }
   ],
   "source": [
    "boxplot = sns.boxplot(x='Income', data=df)"
   ]
  },
  {
   "cell_type": "code",
   "execution_count": 39,
   "id": "0bc7872c",
   "metadata": {},
   "outputs": [
    {
     "data": {
      "text/html": [
       "<div>\n",
       "<style scoped>\n",
       "    .dataframe tbody tr th:only-of-type {\n",
       "        vertical-align: middle;\n",
       "    }\n",
       "\n",
       "    .dataframe tbody tr th {\n",
       "        vertical-align: top;\n",
       "    }\n",
       "\n",
       "    .dataframe thead th {\n",
       "        text-align: right;\n",
       "    }\n",
       "</style>\n",
       "<table border=\"1\" class=\"dataframe\">\n",
       "  <thead>\n",
       "    <tr style=\"text-align: right;\">\n",
       "      <th></th>\n",
       "      <th>Income</th>\n",
       "      <th>Z_Score_Income</th>\n",
       "    </tr>\n",
       "  </thead>\n",
       "  <tbody>\n",
       "    <tr>\n",
       "      <th>1</th>\n",
       "      <td>86575.93</td>\n",
       "      <td>1.904974</td>\n",
       "    </tr>\n",
       "    <tr>\n",
       "      <th>2</th>\n",
       "      <td>46805.99</td>\n",
       "      <td>0.316815</td>\n",
       "    </tr>\n",
       "    <tr>\n",
       "      <th>3</th>\n",
       "      <td>14370.14</td>\n",
       "      <td>-0.978466</td>\n",
       "    </tr>\n",
       "    <tr>\n",
       "      <th>4</th>\n",
       "      <td>39741.49</td>\n",
       "      <td>0.034704</td>\n",
       "    </tr>\n",
       "    <tr>\n",
       "      <th>5</th>\n",
       "      <td>1209.56</td>\n",
       "      <td>-1.504016</td>\n",
       "    </tr>\n",
       "  </tbody>\n",
       "</table>\n",
       "</div>"
      ],
      "text/plain": [
       "     Income  Z_Score_Income\n",
       "1  86575.93        1.904974\n",
       "2  46805.99        0.316815\n",
       "3  14370.14       -0.978466\n",
       "4  39741.49        0.034704\n",
       "5   1209.56       -1.504016"
      ]
     },
     "execution_count": 39,
     "metadata": {},
     "output_type": "execute_result"
    }
   ],
   "source": [
    "df['Z_Score_Income'] = stats.zscore(df['Income'])\n",
    "df[['Income','Z_Score_Income']].head()"
   ]
  },
  {
   "cell_type": "code",
   "execution_count": 40,
   "id": "cb1158ef",
   "metadata": {},
   "outputs": [
    {
     "data": {
      "image/png": "[encoded data removed]",
      "text/plain": [
       "<Figure size 640x480 with 1 Axes>"
      ]
     },
     "metadata": {},
     "output_type": "display_data"
    }
   ],
   "source": [
    "plt.hist(df['Z_Score_Income'])\n",
    "plt.show()"
   ]
  },
  {
   "cell_type": "code",
   "execution_count": 41,
   "id": "e23b680d",
   "metadata": {},
   "outputs": [
    {
     "name": "stdout",
     "output_type": "stream",
     "text": [
      "<class 'pandas.core.frame.DataFrame'>\n",
      "Int64Index: 714 entries, 1 to 9987\n",
      "Data columns (total 55 columns):\n",
      " #   Column              Non-Null Count  Dtype  \n",
      "---  ------              --------------  -----  \n",
      " 0   CaseOrder           714 non-null    int64  \n",
      " 1   Customer_id         714 non-null    object \n",
      " 2   Interaction         714 non-null    object \n",
      " 3   UID                 714 non-null    object \n",
      " 4   City                714 non-null    object \n",
      " 5   State               714 non-null    object \n",
      " 6   County              714 non-null    object \n",
      " 7   Zip                 714 non-null    int64  \n",
      " 8   Lat                 714 non-null    float64\n",
      " 9   Lng                 714 non-null    float64\n",
      " 10  Population          714 non-null    int64  \n",
      " 11  Area                714 non-null    object \n",
      " 12  Timezone            714 non-null    object \n",
      " 13  Job                 714 non-null    object \n",
      " 14  Children            714 non-null    float64\n",
      " 15  Age                 714 non-null    float64\n",
      " 16  Education           714 non-null    object \n",
      " 17  Employment          714 non-null    object \n",
      " 18  Income              714 non-null    float64\n",
      " 19  Marital             714 non-null    object \n",
      " 20  Gender              714 non-null    object \n",
      " 21  ReAdmis             714 non-null    object \n",
      " 22  VitD_levels         714 non-null    float64\n",
      " 23  Doc_visits          714 non-null    int64  \n",
      " 24  Full_meals_eaten    714 non-null    int64  \n",
      " 25  VitD_supp           714 non-null    int64  \n",
      " 26  Soft_drink          714 non-null    object \n",
      " 27  Initial_admin       714 non-null    object \n",
      " 28  HighBlood           714 non-null    object \n",
      " 29  Stroke              714 non-null    object \n",
      " 30  Complication_risk   714 non-null    object \n",
      " 31  Overweight          714 non-null    float64\n",
      " 32  Arthritis           714 non-null    object \n",
      " 33  Diabetes            714 non-null    object \n",
      " 34  Hyperlipidemia      714 non-null    object \n",
      " 35  BackPain            714 non-null    object \n",
      " 36  Anxiety             714 non-null    float64\n",
      " 37  Allergic_rhinitis   714 non-null    object \n",
      " 38  Reflux_esophagitis  714 non-null    object \n",
      " 39  Asthma              714 non-null    object \n",
      " 40  Services            714 non-null    object \n",
      " 41  Initial_days        714 non-null    float64\n",
      " 42  TotalCharge         714 non-null    float64\n",
      " 43  Additional_charges  714 non-null    float64\n",
      " 44  Item1               714 non-null    int64  \n",
      " 45  Item2               714 non-null    int64  \n",
      " 46  Item3               714 non-null    int64  \n",
      " 47  Item4               714 non-null    int64  \n",
      " 48  Item5               714 non-null    int64  \n",
      " 49  Item6               714 non-null    int64  \n",
      " 50  Item7               714 non-null    int64  \n",
      " 51  Item8               714 non-null    int64  \n",
      " 52  Z_Score_Children    714 non-null    float64\n",
      " 53  Z_Score_Age         714 non-null    float64\n",
      " 54  Z_Score_Income      714 non-null    float64\n",
      "dtypes: float64(14), int64(14), object(27)\n",
      "memory usage: 312.4+ KB\n"
     ]
    }
   ],
   "source": [
    "income_query = df.query('Income > 80000')\n",
    "income_query.info()"
   ]
  },
  {
   "cell_type": "code",
   "execution_count": 42,
   "id": "5dce692f",
   "metadata": {},
   "outputs": [
    {
     "name": "stdout",
     "output_type": "stream",
     "text": [
      "<class 'pandas.core.frame.DataFrame'>\n",
      "Int64Index: 10000 entries, 1 to 10000\n",
      "Data columns (total 55 columns):\n",
      " #   Column              Non-Null Count  Dtype  \n",
      "---  ------              --------------  -----  \n",
      " 0   CaseOrder           10000 non-null  int64  \n",
      " 1   Customer_id         10000 non-null  object \n",
      " 2   Interaction         10000 non-null  object \n",
      " 3   UID                 10000 non-null  object \n",
      " 4   City                10000 non-null  object \n",
      " 5   State               10000 non-null  object \n",
      " 6   County              10000 non-null  object \n",
      " 7   Zip                 10000 non-null  int64  \n",
      " 8   Lat                 10000 non-null  float64\n",
      " 9   Lng                 10000 non-null  float64\n",
      " 10  Population          10000 non-null  int64  \n",
      " 11  Area                10000 non-null  object \n",
      " 12  Timezone            10000 non-null  object \n",
      " 13  Job                 10000 non-null  object \n",
      " 14  Children            10000 non-null  float64\n",
      " 15  Age                 10000 non-null  float64\n",
      " 16  Education           10000 non-null  object \n",
      " 17  Employment          10000 non-null  object \n",
      " 18  Income              10000 non-null  float64\n",
      " 19  Marital             10000 non-null  object \n",
      " 20  Gender              10000 non-null  object \n",
      " 21  ReAdmis             10000 non-null  object \n",
      " 22  VitD_levels         10000 non-null  float64\n",
      " 23  Doc_visits          10000 non-null  int64  \n",
      " 24  Full_meals_eaten    10000 non-null  int64  \n",
      " 25  VitD_supp           10000 non-null  int64  \n",
      " 26  Soft_drink          10000 non-null  object \n",
      " 27  Initial_admin       10000 non-null  object \n",
      " 28  HighBlood           10000 non-null  object \n",
      " 29  Stroke              10000 non-null  object \n",
      " 30  Complication_risk   10000 non-null  object \n",
      " 31  Overweight          10000 non-null  float64\n",
      " 32  Arthritis           10000 non-null  object \n",
      " 33  Diabetes            10000 non-null  object \n",
      " 34  Hyperlipidemia      10000 non-null  object \n",
      " 35  BackPain            10000 non-null  object \n",
      " 36  Anxiety             10000 non-null  float64\n",
      " 37  Allergic_rhinitis   10000 non-null  object \n",
      " 38  Reflux_esophagitis  10000 non-null  object \n",
      " 39  Asthma              10000 non-null  object \n",
      " 40  Services            10000 non-null  object \n",
      " 41  Initial_days        10000 non-null  float64\n",
      " 42  TotalCharge         10000 non-null  float64\n",
      " 43  Additional_charges  10000 non-null  float64\n",
      " 44  Item1               10000 non-null  int64  \n",
      " 45  Item2               10000 non-null  int64  \n",
      " 46  Item3               10000 non-null  int64  \n",
      " 47  Item4               10000 non-null  int64  \n",
      " 48  Item5               10000 non-null  int64  \n",
      " 49  Item6               10000 non-null  int64  \n",
      " 50  Item7               10000 non-null  int64  \n",
      " 51  Item8               10000 non-null  int64  \n",
      " 52  Z_Score_Children    10000 non-null  float64\n",
      " 53  Z_Score_Age         10000 non-null  float64\n",
      " 54  Z_Score_Income      10000 non-null  float64\n",
      "dtypes: float64(14), int64(14), object(27)\n",
      "memory usage: 4.3+ MB\n"
     ]
    }
   ],
   "source": [
    "df['Income'] = np.where(df['Income'] > 80000, np.nan, df['Income'])\n",
    "df['Income'].fillna(df['Income'].median(), inplace = True)\n",
    "df.info()"
   ]
  },
  {
   "cell_type": "code",
   "execution_count": 43,
   "id": "dffa6d27",
   "metadata": {},
   "outputs": [
    {
     "data": {
      "image/png": "[encoded data removed]",
      "text/plain": [
       "<Figure size 640x480 with 1 Axes>"
      ]
     },
     "metadata": {},
     "output_type": "display_data"
    }
   ],
   "source": [
    "boxplot = sns.boxplot(x='Income', data=df)"
   ]
  },
  {
   "cell_type": "code",
   "execution_count": 44,
   "id": "50a9784c",
   "metadata": {},
   "outputs": [
    {
     "data": {
      "text/html": [
       "<div>\n",
       "<style scoped>\n",
       "    .dataframe tbody tr th:only-of-type {\n",
       "        vertical-align: middle;\n",
       "    }\n",
       "\n",
       "    .dataframe tbody tr th {\n",
       "        vertical-align: top;\n",
       "    }\n",
       "\n",
       "    .dataframe thead th {\n",
       "        text-align: right;\n",
       "    }\n",
       "</style>\n",
       "<table border=\"1\" class=\"dataframe\">\n",
       "  <thead>\n",
       "    <tr style=\"text-align: right;\">\n",
       "      <th></th>\n",
       "      <th>Income</th>\n",
       "      <th>Z_Score_Income</th>\n",
       "    </tr>\n",
       "  </thead>\n",
       "  <tbody>\n",
       "    <tr>\n",
       "      <th>1</th>\n",
       "      <td>33942.28</td>\n",
       "      <td>0.008042</td>\n",
       "    </tr>\n",
       "    <tr>\n",
       "      <th>2</th>\n",
       "      <td>46805.99</td>\n",
       "      <td>0.818290</td>\n",
       "    </tr>\n",
       "    <tr>\n",
       "      <th>3</th>\n",
       "      <td>14370.14</td>\n",
       "      <td>-1.224752</td>\n",
       "    </tr>\n",
       "    <tr>\n",
       "      <th>4</th>\n",
       "      <td>39741.49</td>\n",
       "      <td>0.373317</td>\n",
       "    </tr>\n",
       "    <tr>\n",
       "      <th>5</th>\n",
       "      <td>1209.56</td>\n",
       "      <td>-2.053700</td>\n",
       "    </tr>\n",
       "  </tbody>\n",
       "</table>\n",
       "</div>"
      ],
      "text/plain": [
       "     Income  Z_Score_Income\n",
       "1  33942.28        0.008042\n",
       "2  46805.99        0.818290\n",
       "3  14370.14       -1.224752\n",
       "4  39741.49        0.373317\n",
       "5   1209.56       -2.053700"
      ]
     },
     "execution_count": 44,
     "metadata": {},
     "output_type": "execute_result"
    }
   ],
   "source": [
    "df['Z_Score_Income'] = stats.zscore(df['Income'])\n",
    "df[['Income','Z_Score_Income']].head()"
   ]
  },
  {
   "cell_type": "code",
   "execution_count": 45,
   "id": "7fc54a75",
   "metadata": {},
   "outputs": [
    {
     "data": {
      "image/png": "[encoded data removed]",
      "text/plain": [
       "<Figure size 640x480 with 1 Axes>"
      ]
     },
     "metadata": {},
     "output_type": "display_data"
    }
   ],
   "source": [
    "plt.hist(df['Z_Score_Income'])\n",
    "plt.show()"
   ]
  },
  {
   "cell_type": "code",
   "execution_count": 46,
   "id": "38ff07d6",
   "metadata": {},
   "outputs": [
    {
     "data": {
      "image/png": "[encoded data removed]",
      "text/plain": [
       "<Figure size 640x480 with 1 Axes>"
      ]
     },
     "metadata": {},
     "output_type": "display_data"
    }
   ],
   "source": [
    "boxplot = sns.boxplot(x='VitD_levels', data=df)"
   ]
  },
  {
   "cell_type": "code",
   "execution_count": 47,
   "id": "7218ede6",
   "metadata": {},
   "outputs": [
    {
     "data": {
      "text/html": [
       "<div>\n",
       "<style scoped>\n",
       "    .dataframe tbody tr th:only-of-type {\n",
       "        vertical-align: middle;\n",
       "    }\n",
       "\n",
       "    .dataframe tbody tr th {\n",
       "        vertical-align: top;\n",
       "    }\n",
       "\n",
       "    .dataframe thead th {\n",
       "        text-align: right;\n",
       "    }\n",
       "</style>\n",
       "<table border=\"1\" class=\"dataframe\">\n",
       "  <thead>\n",
       "    <tr style=\"text-align: right;\">\n",
       "      <th></th>\n",
       "      <th>VitD_levels</th>\n",
       "      <th>Z_Score_VitD_levels</th>\n",
       "    </tr>\n",
       "  </thead>\n",
       "  <tbody>\n",
       "    <tr>\n",
       "      <th>1</th>\n",
       "      <td>17.802330</td>\n",
       "      <td>-0.239530</td>\n",
       "    </tr>\n",
       "    <tr>\n",
       "      <th>2</th>\n",
       "      <td>18.994640</td>\n",
       "      <td>-0.062181</td>\n",
       "    </tr>\n",
       "    <tr>\n",
       "      <th>3</th>\n",
       "      <td>17.415889</td>\n",
       "      <td>-0.297011</td>\n",
       "    </tr>\n",
       "    <tr>\n",
       "      <th>4</th>\n",
       "      <td>17.420079</td>\n",
       "      <td>-0.296388</td>\n",
       "    </tr>\n",
       "    <tr>\n",
       "      <th>5</th>\n",
       "      <td>16.870524</td>\n",
       "      <td>-0.378131</td>\n",
       "    </tr>\n",
       "  </tbody>\n",
       "</table>\n",
       "</div>"
      ],
      "text/plain": [
       "   VitD_levels  Z_Score_VitD_levels\n",
       "1    17.802330            -0.239530\n",
       "2    18.994640            -0.062181\n",
       "3    17.415889            -0.297011\n",
       "4    17.420079            -0.296388\n",
       "5    16.870524            -0.378131"
      ]
     },
     "execution_count": 47,
     "metadata": {},
     "output_type": "execute_result"
    }
   ],
   "source": [
    "df['Z_Score_VitD_levels'] = stats.zscore(df['VitD_levels'])\n",
    "df[['VitD_levels','Z_Score_VitD_levels']].head()"
   ]
  },
  {
   "cell_type": "code",
   "execution_count": 48,
   "id": "caf4fcfe",
   "metadata": {},
   "outputs": [
    {
     "data": {
      "image/png": "[encoded data removed]",
      "text/plain": [
       "<Figure size 640x480 with 1 Axes>"
      ]
     },
     "metadata": {},
     "output_type": "display_data"
    }
   ],
   "source": [
    "plt.hist(df['Z_Score_VitD_levels'])\n",
    "plt.show()"
   ]
  },
  {
   "cell_type": "code",
   "execution_count": 49,
   "id": "d503cdd1",
   "metadata": {},
   "outputs": [
    {
     "name": "stdout",
     "output_type": "stream",
     "text": [
      "<class 'pandas.core.frame.DataFrame'>\n",
      "Int64Index: 500 entries, 12 to 9974\n",
      "Data columns (total 56 columns):\n",
      " #   Column               Non-Null Count  Dtype  \n",
      "---  ------               --------------  -----  \n",
      " 0   CaseOrder            500 non-null    int64  \n",
      " 1   Customer_id          500 non-null    object \n",
      " 2   Interaction          500 non-null    object \n",
      " 3   UID                  500 non-null    object \n",
      " 4   City                 500 non-null    object \n",
      " 5   State                500 non-null    object \n",
      " 6   County               500 non-null    object \n",
      " 7   Zip                  500 non-null    int64  \n",
      " 8   Lat                  500 non-null    float64\n",
      " 9   Lng                  500 non-null    float64\n",
      " 10  Population           500 non-null    int64  \n",
      " 11  Area                 500 non-null    object \n",
      " 12  Timezone             500 non-null    object \n",
      " 13  Job                  500 non-null    object \n",
      " 14  Children             500 non-null    float64\n",
      " 15  Age                  500 non-null    float64\n",
      " 16  Education            500 non-null    object \n",
      " 17  Employment           500 non-null    object \n",
      " 18  Income               500 non-null    float64\n",
      " 19  Marital              500 non-null    object \n",
      " 20  Gender               500 non-null    object \n",
      " 21  ReAdmis              500 non-null    object \n",
      " 22  VitD_levels          500 non-null    float64\n",
      " 23  Doc_visits           500 non-null    int64  \n",
      " 24  Full_meals_eaten     500 non-null    int64  \n",
      " 25  VitD_supp            500 non-null    int64  \n",
      " 26  Soft_drink           500 non-null    object \n",
      " 27  Initial_admin        500 non-null    object \n",
      " 28  HighBlood            500 non-null    object \n",
      " 29  Stroke               500 non-null    object \n",
      " 30  Complication_risk    500 non-null    object \n",
      " 31  Overweight           500 non-null    float64\n",
      " 32  Arthritis            500 non-null    object \n",
      " 33  Diabetes             500 non-null    object \n",
      " 34  Hyperlipidemia       500 non-null    object \n",
      " 35  BackPain             500 non-null    object \n",
      " 36  Anxiety              500 non-null    float64\n",
      " 37  Allergic_rhinitis    500 non-null    object \n",
      " 38  Reflux_esophagitis   500 non-null    object \n",
      " 39  Asthma               500 non-null    object \n",
      " 40  Services             500 non-null    object \n",
      " 41  Initial_days         500 non-null    float64\n",
      " 42  TotalCharge          500 non-null    float64\n",
      " 43  Additional_charges   500 non-null    float64\n",
      " 44  Item1                500 non-null    int64  \n",
      " 45  Item2                500 non-null    int64  \n",
      " 46  Item3                500 non-null    int64  \n",
      " 47  Item4                500 non-null    int64  \n",
      " 48  Item5                500 non-null    int64  \n",
      " 49  Item6                500 non-null    int64  \n",
      " 50  Item7                500 non-null    int64  \n",
      " 51  Item8                500 non-null    int64  \n",
      " 52  Z_Score_Children     500 non-null    float64\n",
      " 53  Z_Score_Age          500 non-null    float64\n",
      " 54  Z_Score_Income       500 non-null    float64\n",
      " 55  Z_Score_VitD_levels  500 non-null    float64\n",
      "dtypes: float64(15), int64(14), object(27)\n",
      "memory usage: 222.7+ KB\n"
     ]
    }
   ],
   "source": [
    "outliers = df[(df['VitD_levels'] > 40)]\n",
    "outliers.info()"
   ]
  },
  {
   "cell_type": "code",
   "execution_count": 50,
   "id": "0de23ceb",
   "metadata": {},
   "outputs": [
    {
     "name": "stdout",
     "output_type": "stream",
     "text": [
      "<class 'pandas.core.frame.DataFrame'>\n",
      "Int64Index: 9500 entries, 1 to 10000\n",
      "Data columns (total 56 columns):\n",
      " #   Column               Non-Null Count  Dtype  \n",
      "---  ------               --------------  -----  \n",
      " 0   CaseOrder            9500 non-null   int64  \n",
      " 1   Customer_id          9500 non-null   object \n",
      " 2   Interaction          9500 non-null   object \n",
      " 3   UID                  9500 non-null   object \n",
      " 4   City                 9500 non-null   object \n",
      " 5   State                9500 non-null   object \n",
      " 6   County               9500 non-null   object \n",
      " 7   Zip                  9500 non-null   int64  \n",
      " 8   Lat                  9500 non-null   float64\n",
      " 9   Lng                  9500 non-null   float64\n",
      " 10  Population           9500 non-null   int64  \n",
      " 11  Area                 9500 non-null   object \n",
      " 12  Timezone             9500 non-null   object \n",
      " 13  Job                  9500 non-null   object \n",
      " 14  Children             9500 non-null   float64\n",
      " 15  Age                  9500 non-null   float64\n",
      " 16  Education            9500 non-null   object \n",
      " 17  Employment           9500 non-null   object \n",
      " 18  Income               9500 non-null   float64\n",
      " 19  Marital              9500 non-null   object \n",
      " 20  Gender               9500 non-null   object \n",
      " 21  ReAdmis              9500 non-null   object \n",
      " 22  VitD_levels          9500 non-null   float64\n",
      " 23  Doc_visits           9500 non-null   int64  \n",
      " 24  Full_meals_eaten     9500 non-null   int64  \n",
      " 25  VitD_supp            9500 non-null   int64  \n",
      " 26  Soft_drink           9500 non-null   object \n",
      " 27  Initial_admin        9500 non-null   object \n",
      " 28  HighBlood            9500 non-null   object \n",
      " 29  Stroke               9500 non-null   object \n",
      " 30  Complication_risk    9500 non-null   object \n",
      " 31  Overweight           9500 non-null   float64\n",
      " 32  Arthritis            9500 non-null   object \n",
      " 33  Diabetes             9500 non-null   object \n",
      " 34  Hyperlipidemia       9500 non-null   object \n",
      " 35  BackPain             9500 non-null   object \n",
      " 36  Anxiety              9500 non-null   float64\n",
      " 37  Allergic_rhinitis    9500 non-null   object \n",
      " 38  Reflux_esophagitis   9500 non-null   object \n",
      " 39  Asthma               9500 non-null   object \n",
      " 40  Services             9500 non-null   object \n",
      " 41  Initial_days         9500 non-null   float64\n",
      " 42  TotalCharge          9500 non-null   float64\n",
      " 43  Additional_charges   9500 non-null   float64\n",
      " 44  Item1                9500 non-null   int64  \n",
      " 45  Item2                9500 non-null   int64  \n",
      " 46  Item3                9500 non-null   int64  \n",
      " 47  Item4                9500 non-null   int64  \n",
      " 48  Item5                9500 non-null   int64  \n",
      " 49  Item6                9500 non-null   int64  \n",
      " 50  Item7                9500 non-null   int64  \n",
      " 51  Item8                9500 non-null   int64  \n",
      " 52  Z_Score_Children     9500 non-null   float64\n",
      " 53  Z_Score_Age          9500 non-null   float64\n",
      " 54  Z_Score_Income       9500 non-null   float64\n",
      " 55  Z_Score_VitD_levels  9500 non-null   float64\n",
      "dtypes: float64(15), int64(14), object(27)\n",
      "memory usage: 4.1+ MB\n"
     ]
    }
   ],
   "source": [
    "df.drop(df[(df['VitD_levels'] > 40)].index, inplace = True)\n",
    "df.info()"
   ]
  },
  {
   "cell_type": "code",
   "execution_count": 51,
   "id": "3658c138",
   "metadata": {},
   "outputs": [
    {
     "data": {
      "image/png": "[encoded data removed]",
      "text/plain": [
       "<Figure size 640x480 with 1 Axes>"
      ]
     },
     "metadata": {},
     "output_type": "display_data"
    }
   ],
   "source": [
    "boxplot = sns.boxplot(x='VitD_levels', data=df)"
   ]
  },
  {
   "cell_type": "code",
   "execution_count": 52,
   "id": "258e2b64",
   "metadata": {},
   "outputs": [
    {
     "data": {
      "text/html": [
       "<div>\n",
       "<style scoped>\n",
       "    .dataframe tbody tr th:only-of-type {\n",
       "        vertical-align: middle;\n",
       "    }\n",
       "\n",
       "    .dataframe tbody tr th {\n",
       "        vertical-align: top;\n",
       "    }\n",
       "\n",
       "    .dataframe thead th {\n",
       "        text-align: right;\n",
       "    }\n",
       "</style>\n",
       "<table border=\"1\" class=\"dataframe\">\n",
       "  <thead>\n",
       "    <tr style=\"text-align: right;\">\n",
       "      <th></th>\n",
       "      <th>VitD_levels</th>\n",
       "      <th>Z_Score_VitD_levels</th>\n",
       "    </tr>\n",
       "  </thead>\n",
       "  <tbody>\n",
       "    <tr>\n",
       "      <th>1</th>\n",
       "      <td>17.802330</td>\n",
       "      <td>-0.069681</td>\n",
       "    </tr>\n",
       "    <tr>\n",
       "      <th>2</th>\n",
       "      <td>18.994640</td>\n",
       "      <td>0.459989</td>\n",
       "    </tr>\n",
       "    <tr>\n",
       "      <th>3</th>\n",
       "      <td>17.415889</td>\n",
       "      <td>-0.241354</td>\n",
       "    </tr>\n",
       "    <tr>\n",
       "      <th>4</th>\n",
       "      <td>17.420079</td>\n",
       "      <td>-0.239492</td>\n",
       "    </tr>\n",
       "    <tr>\n",
       "      <th>5</th>\n",
       "      <td>16.870524</td>\n",
       "      <td>-0.483626</td>\n",
       "    </tr>\n",
       "  </tbody>\n",
       "</table>\n",
       "</div>"
      ],
      "text/plain": [
       "   VitD_levels  Z_Score_VitD_levels\n",
       "1    17.802330            -0.069681\n",
       "2    18.994640             0.459989\n",
       "3    17.415889            -0.241354\n",
       "4    17.420079            -0.239492\n",
       "5    16.870524            -0.483626"
      ]
     },
     "execution_count": 52,
     "metadata": {},
     "output_type": "execute_result"
    }
   ],
   "source": [
    "df['Z_Score_VitD_levels'] = stats.zscore(df['VitD_levels'])\n",
    "df[['VitD_levels','Z_Score_VitD_levels']].head()"
   ]
  },
  {
   "cell_type": "code",
   "execution_count": 53,
   "id": "e88a30a6",
   "metadata": {},
   "outputs": [
    {
     "data": {
      "image/png": "[encoded data removed]",
      "text/plain": [
       "<Figure size 640x480 with 1 Axes>"
      ]
     },
     "metadata": {},
     "output_type": "display_data"
    }
   ],
   "source": [
    "plt.hist(df['Z_Score_VitD_levels'])\n",
    "plt.show()"
   ]
  },
  {
   "cell_type": "code",
   "execution_count": 54,
   "id": "7e94128a",
   "metadata": {},
   "outputs": [
    {
     "data": {
      "image/png": "[encoded data removed]",
      "text/plain": [
       "<Figure size 640x480 with 1 Axes>"
      ]
     },
     "metadata": {},
     "output_type": "display_data"
    }
   ],
   "source": [
    "boxplot = sns.boxplot(x='VitD_levels', data=df)"
   ]
  },
  {
   "cell_type": "code",
   "execution_count": 55,
   "id": "41aae824",
   "metadata": {},
   "outputs": [
    {
     "name": "stdout",
     "output_type": "stream",
     "text": [
      "<class 'pandas.core.frame.DataFrame'>\n",
      "Int64Index: 121 entries, 23 to 9964\n",
      "Data columns (total 56 columns):\n",
      " #   Column               Non-Null Count  Dtype  \n",
      "---  ------               --------------  -----  \n",
      " 0   CaseOrder            121 non-null    int64  \n",
      " 1   Customer_id          121 non-null    object \n",
      " 2   Interaction          121 non-null    object \n",
      " 3   UID                  121 non-null    object \n",
      " 4   City                 121 non-null    object \n",
      " 5   State                121 non-null    object \n",
      " 6   County               121 non-null    object \n",
      " 7   Zip                  121 non-null    int64  \n",
      " 8   Lat                  121 non-null    float64\n",
      " 9   Lng                  121 non-null    float64\n",
      " 10  Population           121 non-null    int64  \n",
      " 11  Area                 121 non-null    object \n",
      " 12  Timezone             121 non-null    object \n",
      " 13  Job                  121 non-null    object \n",
      " 14  Children             121 non-null    float64\n",
      " 15  Age                  121 non-null    float64\n",
      " 16  Education            121 non-null    object \n",
      " 17  Employment           121 non-null    object \n",
      " 18  Income               121 non-null    float64\n",
      " 19  Marital              121 non-null    object \n",
      " 20  Gender               121 non-null    object \n",
      " 21  ReAdmis              121 non-null    object \n",
      " 22  VitD_levels          121 non-null    float64\n",
      " 23  Doc_visits           121 non-null    int64  \n",
      " 24  Full_meals_eaten     121 non-null    int64  \n",
      " 25  VitD_supp            121 non-null    int64  \n",
      " 26  Soft_drink           121 non-null    object \n",
      " 27  Initial_admin        121 non-null    object \n",
      " 28  HighBlood            121 non-null    object \n",
      " 29  Stroke               121 non-null    object \n",
      " 30  Complication_risk    121 non-null    object \n",
      " 31  Overweight           121 non-null    float64\n",
      " 32  Arthritis            121 non-null    object \n",
      " 33  Diabetes             121 non-null    object \n",
      " 34  Hyperlipidemia       121 non-null    object \n",
      " 35  BackPain             121 non-null    object \n",
      " 36  Anxiety              121 non-null    float64\n",
      " 37  Allergic_rhinitis    121 non-null    object \n",
      " 38  Reflux_esophagitis   121 non-null    object \n",
      " 39  Asthma               121 non-null    object \n",
      " 40  Services             121 non-null    object \n",
      " 41  Initial_days         121 non-null    float64\n",
      " 42  TotalCharge          121 non-null    float64\n",
      " 43  Additional_charges   121 non-null    float64\n",
      " 44  Item1                121 non-null    int64  \n",
      " 45  Item2                121 non-null    int64  \n",
      " 46  Item3                121 non-null    int64  \n",
      " 47  Item4                121 non-null    int64  \n",
      " 48  Item5                121 non-null    int64  \n",
      " 49  Item6                121 non-null    int64  \n",
      " 50  Item7                121 non-null    int64  \n",
      " 51  Item8                121 non-null    int64  \n",
      " 52  Z_Score_Children     121 non-null    float64\n",
      " 53  Z_Score_Age          121 non-null    float64\n",
      " 54  Z_Score_Income       121 non-null    float64\n",
      " 55  Z_Score_VitD_levels  121 non-null    float64\n",
      "dtypes: float64(15), int64(14), object(27)\n",
      "memory usage: 53.9+ KB\n"
     ]
    }
   ],
   "source": [
    "VitD_levels_query = df.query('VitD_levels > 23')\n",
    "VitD_levels_query.info()"
   ]
  },
  {
   "cell_type": "code",
   "execution_count": 56,
   "id": "e195f7a5",
   "metadata": {},
   "outputs": [
    {
     "name": "stdout",
     "output_type": "stream",
     "text": [
      "<class 'pandas.core.frame.DataFrame'>\n",
      "Int64Index: 73 entries, 199 to 9669\n",
      "Data columns (total 56 columns):\n",
      " #   Column               Non-Null Count  Dtype  \n",
      "---  ------               --------------  -----  \n",
      " 0   CaseOrder            73 non-null     int64  \n",
      " 1   Customer_id          73 non-null     object \n",
      " 2   Interaction          73 non-null     object \n",
      " 3   UID                  73 non-null     object \n",
      " 4   City                 73 non-null     object \n",
      " 5   State                73 non-null     object \n",
      " 6   County               73 non-null     object \n",
      " 7   Zip                  73 non-null     int64  \n",
      " 8   Lat                  73 non-null     float64\n",
      " 9   Lng                  73 non-null     float64\n",
      " 10  Population           73 non-null     int64  \n",
      " 11  Area                 73 non-null     object \n",
      " 12  Timezone             73 non-null     object \n",
      " 13  Job                  73 non-null     object \n",
      " 14  Children             73 non-null     float64\n",
      " 15  Age                  73 non-null     float64\n",
      " 16  Education            73 non-null     object \n",
      " 17  Employment           73 non-null     object \n",
      " 18  Income               73 non-null     float64\n",
      " 19  Marital              73 non-null     object \n",
      " 20  Gender               73 non-null     object \n",
      " 21  ReAdmis              73 non-null     object \n",
      " 22  VitD_levels          73 non-null     float64\n",
      " 23  Doc_visits           73 non-null     int64  \n",
      " 24  Full_meals_eaten     73 non-null     int64  \n",
      " 25  VitD_supp            73 non-null     int64  \n",
      " 26  Soft_drink           73 non-null     object \n",
      " 27  Initial_admin        73 non-null     object \n",
      " 28  HighBlood            73 non-null     object \n",
      " 29  Stroke               73 non-null     object \n",
      " 30  Complication_risk    73 non-null     object \n",
      " 31  Overweight           73 non-null     float64\n",
      " 32  Arthritis            73 non-null     object \n",
      " 33  Diabetes             73 non-null     object \n",
      " 34  Hyperlipidemia       73 non-null     object \n",
      " 35  BackPain             73 non-null     object \n",
      " 36  Anxiety              73 non-null     float64\n",
      " 37  Allergic_rhinitis    73 non-null     object \n",
      " 38  Reflux_esophagitis   73 non-null     object \n",
      " 39  Asthma               73 non-null     object \n",
      " 40  Services             73 non-null     object \n",
      " 41  Initial_days         73 non-null     float64\n",
      " 42  TotalCharge          73 non-null     float64\n",
      " 43  Additional_charges   73 non-null     float64\n",
      " 44  Item1                73 non-null     int64  \n",
      " 45  Item2                73 non-null     int64  \n",
      " 46  Item3                73 non-null     int64  \n",
      " 47  Item4                73 non-null     int64  \n",
      " 48  Item5                73 non-null     int64  \n",
      " 49  Item6                73 non-null     int64  \n",
      " 50  Item7                73 non-null     int64  \n",
      " 51  Item8                73 non-null     int64  \n",
      " 52  Z_Score_Children     73 non-null     float64\n",
      " 53  Z_Score_Age          73 non-null     float64\n",
      " 54  Z_Score_Income       73 non-null     float64\n",
      " 55  Z_Score_VitD_levels  73 non-null     float64\n",
      "dtypes: float64(15), int64(14), object(27)\n",
      "memory usage: 32.5+ KB\n"
     ]
    }
   ],
   "source": [
    "VitD_levels_query = df.query('VitD_levels < 12.5')\n",
    "VitD_levels_query.info()"
   ]
  },
  {
   "cell_type": "code",
   "execution_count": 57,
   "id": "d082897f",
   "metadata": {},
   "outputs": [
    {
     "data": {
      "text/html": [
       "<div>\n",
       "<style scoped>\n",
       "    .dataframe tbody tr th:only-of-type {\n",
       "        vertical-align: middle;\n",
       "    }\n",
       "\n",
       "    .dataframe tbody tr th {\n",
       "        vertical-align: top;\n",
       "    }\n",
       "\n",
       "    .dataframe thead th {\n",
       "        text-align: right;\n",
       "    }\n",
       "</style>\n",
       "<table border=\"1\" class=\"dataframe\">\n",
       "  <thead>\n",
       "    <tr style=\"text-align: right;\">\n",
       "      <th></th>\n",
       "      <th>VitD_levels</th>\n",
       "      <th>Z_Score_VitD_levels</th>\n",
       "    </tr>\n",
       "  </thead>\n",
       "  <tbody>\n",
       "    <tr>\n",
       "      <th>1</th>\n",
       "      <td>17.802330</td>\n",
       "      <td>-0.069681</td>\n",
       "    </tr>\n",
       "    <tr>\n",
       "      <th>2</th>\n",
       "      <td>18.994640</td>\n",
       "      <td>0.459989</td>\n",
       "    </tr>\n",
       "    <tr>\n",
       "      <th>3</th>\n",
       "      <td>17.415889</td>\n",
       "      <td>-0.241354</td>\n",
       "    </tr>\n",
       "    <tr>\n",
       "      <th>4</th>\n",
       "      <td>17.420079</td>\n",
       "      <td>-0.239492</td>\n",
       "    </tr>\n",
       "    <tr>\n",
       "      <th>5</th>\n",
       "      <td>16.870524</td>\n",
       "      <td>-0.483626</td>\n",
       "    </tr>\n",
       "  </tbody>\n",
       "</table>\n",
       "</div>"
      ],
      "text/plain": [
       "   VitD_levels  Z_Score_VitD_levels\n",
       "1    17.802330            -0.069681\n",
       "2    18.994640             0.459989\n",
       "3    17.415889            -0.241354\n",
       "4    17.420079            -0.239492\n",
       "5    16.870524            -0.483626"
      ]
     },
     "execution_count": 57,
     "metadata": {},
     "output_type": "execute_result"
    }
   ],
   "source": [
    "df['Z_Score_VitD_levels'] = stats.zscore(df['VitD_levels'])\n",
    "df[['VitD_levels','Z_Score_VitD_levels']].head()"
   ]
  },
  {
   "cell_type": "code",
   "execution_count": 58,
   "id": "dc91ee76",
   "metadata": {},
   "outputs": [
    {
     "data": {
      "image/png": "[encoded data removed]",
      "text/plain": [
       "<Figure size 640x480 with 1 Axes>"
      ]
     },
     "metadata": {},
     "output_type": "display_data"
    }
   ],
   "source": [
    "plt.hist(df['Z_Score_VitD_levels'])\n",
    "plt.show()"
   ]
  },
  {
   "cell_type": "code",
   "execution_count": 59,
   "id": "2ec9f390",
   "metadata": {},
   "outputs": [
    {
     "data": {
      "image/png": "[encoded data removed]",
      "text/plain": [
       "<Figure size 640x480 with 1 Axes>"
      ]
     },
     "metadata": {},
     "output_type": "display_data"
    }
   ],
   "source": [
    "boxplot = sns.boxplot(x='Doc_visits', data=df)"
   ]
  },
  {
   "cell_type": "code",
   "execution_count": 60,
   "id": "399f2d46",
   "metadata": {},
   "outputs": [
    {
     "data": {
      "text/html": [
       "<div>\n",
       "<style scoped>\n",
       "    .dataframe tbody tr th:only-of-type {\n",
       "        vertical-align: middle;\n",
       "    }\n",
       "\n",
       "    .dataframe tbody tr th {\n",
       "        vertical-align: top;\n",
       "    }\n",
       "\n",
       "    .dataframe thead th {\n",
       "        text-align: right;\n",
       "    }\n",
       "</style>\n",
       "<table border=\"1\" class=\"dataframe\">\n",
       "  <thead>\n",
       "    <tr style=\"text-align: right;\">\n",
       "      <th></th>\n",
       "      <th>Doc_visits</th>\n",
       "      <th>Z_Score_Doc_visits</th>\n",
       "    </tr>\n",
       "  </thead>\n",
       "  <tbody>\n",
       "    <tr>\n",
       "      <th>1</th>\n",
       "      <td>6</td>\n",
       "      <td>0.942733</td>\n",
       "    </tr>\n",
       "    <tr>\n",
       "      <th>2</th>\n",
       "      <td>4</td>\n",
       "      <td>-0.966243</td>\n",
       "    </tr>\n",
       "    <tr>\n",
       "      <th>3</th>\n",
       "      <td>4</td>\n",
       "      <td>-0.966243</td>\n",
       "    </tr>\n",
       "    <tr>\n",
       "      <th>4</th>\n",
       "      <td>4</td>\n",
       "      <td>-0.966243</td>\n",
       "    </tr>\n",
       "    <tr>\n",
       "      <th>5</th>\n",
       "      <td>5</td>\n",
       "      <td>-0.011755</td>\n",
       "    </tr>\n",
       "  </tbody>\n",
       "</table>\n",
       "</div>"
      ],
      "text/plain": [
       "   Doc_visits  Z_Score_Doc_visits\n",
       "1           6            0.942733\n",
       "2           4           -0.966243\n",
       "3           4           -0.966243\n",
       "4           4           -0.966243\n",
       "5           5           -0.011755"
      ]
     },
     "execution_count": 60,
     "metadata": {},
     "output_type": "execute_result"
    }
   ],
   "source": [
    "df['Z_Score_Doc_visits'] = stats.zscore(df['Doc_visits'])\n",
    "df[['Doc_visits','Z_Score_Doc_visits']].head()"
   ]
  },
  {
   "cell_type": "code",
   "execution_count": 61,
   "id": "0c51091a",
   "metadata": {},
   "outputs": [
    {
     "data": {
      "text/plain": [
       "count    9.500000e+03\n",
       "mean     3.863861e-16\n",
       "std      1.000053e+00\n",
       "min     -3.829707e+00\n",
       "25%     -9.662433e-01\n",
       "50%     -1.175527e-02\n",
       "75%      9.427327e-01\n",
       "max      3.806197e+00\n",
       "Name: Z_Score_Doc_visits, dtype: float64"
      ]
     },
     "execution_count": 61,
     "metadata": {},
     "output_type": "execute_result"
    }
   ],
   "source": [
    "df['Z_Score_Doc_visits'].describe()"
   ]
  },
  {
   "cell_type": "code",
   "execution_count": 62,
   "id": "b0566e11",
   "metadata": {},
   "outputs": [
    {
     "data": {
      "text/plain": [
       "5    3623\n",
       "6    2319\n",
       "4    2261\n",
       "7     606\n",
       "3     570\n",
       "8      57\n",
       "2      56\n",
       "1       6\n",
       "9       2\n",
       "Name: Doc_visits, dtype: int64"
      ]
     },
     "execution_count": 62,
     "metadata": {},
     "output_type": "execute_result"
    }
   ],
   "source": [
    "df['Doc_visits'].value_counts()"
   ]
  },
  {
   "cell_type": "code",
   "execution_count": 63,
   "id": "b3af8f9a",
   "metadata": {},
   "outputs": [
    {
     "data": {
      "image/png": "[encoded data removed]",
      "text/plain": [
       "<Figure size 640x480 with 1 Axes>"
      ]
     },
     "metadata": {},
     "output_type": "display_data"
    }
   ],
   "source": [
    "plt.hist(df['Z_Score_Doc_visits'])\n",
    "plt.show()"
   ]
  },
  {
   "cell_type": "code",
   "execution_count": 64,
   "id": "5a02ebd2",
   "metadata": {},
   "outputs": [
    {
     "data": {
      "image/png": "[encoded data removed]",
      "text/plain": [
       "<Figure size 640x480 with 1 Axes>"
      ]
     },
     "metadata": {},
     "output_type": "display_data"
    }
   ],
   "source": [
    "boxplot = sns.boxplot(x='Full_meals_eaten', data=df)"
   ]
  },
  {
   "cell_type": "code",
   "execution_count": 65,
   "id": "1bce7e75",
   "metadata": {},
   "outputs": [
    {
     "data": {
      "text/html": [
       "<div>\n",
       "<style scoped>\n",
       "    .dataframe tbody tr th:only-of-type {\n",
       "        vertical-align: middle;\n",
       "    }\n",
       "\n",
       "    .dataframe tbody tr th {\n",
       "        vertical-align: top;\n",
       "    }\n",
       "\n",
       "    .dataframe thead th {\n",
       "        text-align: right;\n",
       "    }\n",
       "</style>\n",
       "<table border=\"1\" class=\"dataframe\">\n",
       "  <thead>\n",
       "    <tr style=\"text-align: right;\">\n",
       "      <th></th>\n",
       "      <th>Full_meals_eaten</th>\n",
       "      <th>Z_Score_Full_meals_eaten</th>\n",
       "    </tr>\n",
       "  </thead>\n",
       "  <tbody>\n",
       "    <tr>\n",
       "      <th>1</th>\n",
       "      <td>0</td>\n",
       "      <td>-0.993442</td>\n",
       "    </tr>\n",
       "    <tr>\n",
       "      <th>2</th>\n",
       "      <td>2</td>\n",
       "      <td>0.992188</td>\n",
       "    </tr>\n",
       "    <tr>\n",
       "      <th>3</th>\n",
       "      <td>1</td>\n",
       "      <td>-0.000627</td>\n",
       "    </tr>\n",
       "    <tr>\n",
       "      <th>4</th>\n",
       "      <td>1</td>\n",
       "      <td>-0.000627</td>\n",
       "    </tr>\n",
       "    <tr>\n",
       "      <th>5</th>\n",
       "      <td>0</td>\n",
       "      <td>-0.993442</td>\n",
       "    </tr>\n",
       "  </tbody>\n",
       "</table>\n",
       "</div>"
      ],
      "text/plain": [
       "   Full_meals_eaten  Z_Score_Full_meals_eaten\n",
       "1                 0                 -0.993442\n",
       "2                 2                  0.992188\n",
       "3                 1                 -0.000627\n",
       "4                 1                 -0.000627\n",
       "5                 0                 -0.993442"
      ]
     },
     "execution_count": 65,
     "metadata": {},
     "output_type": "execute_result"
    }
   ],
   "source": [
    "df['Z_Score_Full_meals_eaten'] = stats.zscore(df['Full_meals_eaten'])\n",
    "df[['Full_meals_eaten','Z_Score_Full_meals_eaten']].head()"
   ]
  },
  {
   "cell_type": "code",
   "execution_count": 66,
   "id": "b40327e7",
   "metadata": {},
   "outputs": [
    {
     "data": {
      "image/png": "[encoded data removed]",
      "text/plain": [
       "<Figure size 640x480 with 1 Axes>"
      ]
     },
     "metadata": {},
     "output_type": "display_data"
    }
   ],
   "source": [
    "plt.hist(df['Z_Score_Full_meals_eaten'])\n",
    "plt.show()"
   ]
  },
  {
   "cell_type": "code",
   "execution_count": 67,
   "id": "92990b1f",
   "metadata": {},
   "outputs": [
    {
     "data": {
      "text/plain": [
       "0    3529\n",
       "1    3443\n",
       "2    1750\n",
       "3     588\n",
       "4     161\n",
       "5      21\n",
       "6       6\n",
       "7       2\n",
       "Name: Full_meals_eaten, dtype: int64"
      ]
     },
     "execution_count": 67,
     "metadata": {},
     "output_type": "execute_result"
    }
   ],
   "source": [
    "df['Full_meals_eaten'].value_counts()"
   ]
  },
  {
   "cell_type": "code",
   "execution_count": 68,
   "id": "e96a5cca",
   "metadata": {},
   "outputs": [
    {
     "name": "stdout",
     "output_type": "stream",
     "text": [
      "<class 'pandas.core.frame.DataFrame'>\n",
      "Int64Index: 8 entries, 959 to 9987\n",
      "Data columns (total 58 columns):\n",
      " #   Column                    Non-Null Count  Dtype  \n",
      "---  ------                    --------------  -----  \n",
      " 0   CaseOrder                 8 non-null      int64  \n",
      " 1   Customer_id               8 non-null      object \n",
      " 2   Interaction               8 non-null      object \n",
      " 3   UID                       8 non-null      object \n",
      " 4   City                      8 non-null      object \n",
      " 5   State                     8 non-null      object \n",
      " 6   County                    8 non-null      object \n",
      " 7   Zip                       8 non-null      int64  \n",
      " 8   Lat                       8 non-null      float64\n",
      " 9   Lng                       8 non-null      float64\n",
      " 10  Population                8 non-null      int64  \n",
      " 11  Area                      8 non-null      object \n",
      " 12  Timezone                  8 non-null      object \n",
      " 13  Job                       8 non-null      object \n",
      " 14  Children                  8 non-null      float64\n",
      " 15  Age                       8 non-null      float64\n",
      " 16  Education                 8 non-null      object \n",
      " 17  Employment                8 non-null      object \n",
      " 18  Income                    8 non-null      float64\n",
      " 19  Marital                   8 non-null      object \n",
      " 20  Gender                    8 non-null      object \n",
      " 21  ReAdmis                   8 non-null      object \n",
      " 22  VitD_levels               8 non-null      float64\n",
      " 23  Doc_visits                8 non-null      int64  \n",
      " 24  Full_meals_eaten          8 non-null      int64  \n",
      " 25  VitD_supp                 8 non-null      int64  \n",
      " 26  Soft_drink                8 non-null      object \n",
      " 27  Initial_admin             8 non-null      object \n",
      " 28  HighBlood                 8 non-null      object \n",
      " 29  Stroke                    8 non-null      object \n",
      " 30  Complication_risk         8 non-null      object \n",
      " 31  Overweight                8 non-null      float64\n",
      " 32  Arthritis                 8 non-null      object \n",
      " 33  Diabetes                  8 non-null      object \n",
      " 34  Hyperlipidemia            8 non-null      object \n",
      " 35  BackPain                  8 non-null      object \n",
      " 36  Anxiety                   8 non-null      float64\n",
      " 37  Allergic_rhinitis         8 non-null      object \n",
      " 38  Reflux_esophagitis        8 non-null      object \n",
      " 39  Asthma                    8 non-null      object \n",
      " 40  Services                  8 non-null      object \n",
      " 41  Initial_days              8 non-null      float64\n",
      " 42  TotalCharge               8 non-null      float64\n",
      " 43  Additional_charges        8 non-null      float64\n",
      " 44  Item1                     8 non-null      int64  \n",
      " 45  Item2                     8 non-null      int64  \n",
      " 46  Item3                     8 non-null      int64  \n",
      " 47  Item4                     8 non-null      int64  \n",
      " 48  Item5                     8 non-null      int64  \n",
      " 49  Item6                     8 non-null      int64  \n",
      " 50  Item7                     8 non-null      int64  \n",
      " 51  Item8                     8 non-null      int64  \n",
      " 52  Z_Score_Children          8 non-null      float64\n",
      " 53  Z_Score_Age               8 non-null      float64\n",
      " 54  Z_Score_Income            8 non-null      float64\n",
      " 55  Z_Score_VitD_levels       8 non-null      float64\n",
      " 56  Z_Score_Doc_visits        8 non-null      float64\n",
      " 57  Z_Score_Full_meals_eaten  8 non-null      float64\n",
      "dtypes: float64(17), int64(14), object(27)\n",
      "memory usage: 3.7+ KB\n"
     ]
    }
   ],
   "source": [
    "Full_meals_eaten_query = df.query('Full_meals_eaten > 5')\n",
    "Full_meals_eaten_query.info()"
   ]
  },
  {
   "cell_type": "code",
   "execution_count": 69,
   "id": "26f39416",
   "metadata": {},
   "outputs": [
    {
     "name": "stdout",
     "output_type": "stream",
     "text": [
      "<class 'pandas.core.frame.DataFrame'>\n",
      "Int64Index: 9500 entries, 1 to 10000\n",
      "Data columns (total 58 columns):\n",
      " #   Column                    Non-Null Count  Dtype  \n",
      "---  ------                    --------------  -----  \n",
      " 0   CaseOrder                 9500 non-null   int64  \n",
      " 1   Customer_id               9500 non-null   object \n",
      " 2   Interaction               9500 non-null   object \n",
      " 3   UID                       9500 non-null   object \n",
      " 4   City                      9500 non-null   object \n",
      " 5   State                     9500 non-null   object \n",
      " 6   County                    9500 non-null   object \n",
      " 7   Zip                       9500 non-null   int64  \n",
      " 8   Lat                       9500 non-null   float64\n",
      " 9   Lng                       9500 non-null   float64\n",
      " 10  Population                9500 non-null   int64  \n",
      " 11  Area                      9500 non-null   object \n",
      " 12  Timezone                  9500 non-null   object \n",
      " 13  Job                       9500 non-null   object \n",
      " 14  Children                  9500 non-null   float64\n",
      " 15  Age                       9500 non-null   float64\n",
      " 16  Education                 9500 non-null   object \n",
      " 17  Employment                9500 non-null   object \n",
      " 18  Income                    9500 non-null   float64\n",
      " 19  Marital                   9500 non-null   object \n",
      " 20  Gender                    9500 non-null   object \n",
      " 21  ReAdmis                   9500 non-null   object \n",
      " 22  VitD_levels               9500 non-null   float64\n",
      " 23  Doc_visits                9500 non-null   int64  \n",
      " 24  Full_meals_eaten          9500 non-null   float64\n",
      " 25  VitD_supp                 9500 non-null   int64  \n",
      " 26  Soft_drink                9500 non-null   object \n",
      " 27  Initial_admin             9500 non-null   object \n",
      " 28  HighBlood                 9500 non-null   object \n",
      " 29  Stroke                    9500 non-null   object \n",
      " 30  Complication_risk         9500 non-null   object \n",
      " 31  Overweight                9500 non-null   float64\n",
      " 32  Arthritis                 9500 non-null   object \n",
      " 33  Diabetes                  9500 non-null   object \n",
      " 34  Hyperlipidemia            9500 non-null   object \n",
      " 35  BackPain                  9500 non-null   object \n",
      " 36  Anxiety                   9500 non-null   float64\n",
      " 37  Allergic_rhinitis         9500 non-null   object \n",
      " 38  Reflux_esophagitis        9500 non-null   object \n",
      " 39  Asthma                    9500 non-null   object \n",
      " 40  Services                  9500 non-null   object \n",
      " 41  Initial_days              9500 non-null   float64\n",
      " 42  TotalCharge               9500 non-null   float64\n",
      " 43  Additional_charges        9500 non-null   float64\n",
      " 44  Item1                     9500 non-null   int64  \n",
      " 45  Item2                     9500 non-null   int64  \n",
      " 46  Item3                     9500 non-null   int64  \n",
      " 47  Item4                     9500 non-null   int64  \n",
      " 48  Item5                     9500 non-null   int64  \n",
      " 49  Item6                     9500 non-null   int64  \n",
      " 50  Item7                     9500 non-null   int64  \n",
      " 51  Item8                     9500 non-null   int64  \n",
      " 52  Z_Score_Children          9500 non-null   float64\n",
      " 53  Z_Score_Age               9500 non-null   float64\n",
      " 54  Z_Score_Income            9500 non-null   float64\n",
      " 55  Z_Score_VitD_levels       9500 non-null   float64\n",
      " 56  Z_Score_Doc_visits        9500 non-null   float64\n",
      " 57  Z_Score_Full_meals_eaten  9500 non-null   float64\n",
      "dtypes: float64(18), int64(13), object(27)\n",
      "memory usage: 4.3+ MB\n"
     ]
    }
   ],
   "source": [
    "df['Full_meals_eaten'] = np.where(df['Full_meals_eaten'] > 5, np.nan, df['Full_meals_eaten'])\n",
    "df['Full_meals_eaten'].fillna(5, inplace = True)\n",
    "df.info()"
   ]
  },
  {
   "cell_type": "code",
   "execution_count": 70,
   "id": "82dbeece",
   "metadata": {},
   "outputs": [
    {
     "data": {
      "image/png": "[encoded data removed]",
      "text/plain": [
       "<Figure size 640x480 with 1 Axes>"
      ]
     },
     "metadata": {},
     "output_type": "display_data"
    }
   ],
   "source": [
    "boxplot = sns.boxplot(x='Full_meals_eaten', data=df)"
   ]
  },
  {
   "cell_type": "code",
   "execution_count": 71,
   "id": "2c751a8e",
   "metadata": {},
   "outputs": [
    {
     "data": {
      "text/html": [
       "<div>\n",
       "<style scoped>\n",
       "    .dataframe tbody tr th:only-of-type {\n",
       "        vertical-align: middle;\n",
       "    }\n",
       "\n",
       "    .dataframe tbody tr th {\n",
       "        vertical-align: top;\n",
       "    }\n",
       "\n",
       "    .dataframe thead th {\n",
       "        text-align: right;\n",
       "    }\n",
       "</style>\n",
       "<table border=\"1\" class=\"dataframe\">\n",
       "  <thead>\n",
       "    <tr style=\"text-align: right;\">\n",
       "      <th></th>\n",
       "      <th>Full_meals_eaten</th>\n",
       "      <th>Z_Score_Full_meals_eaten</th>\n",
       "    </tr>\n",
       "  </thead>\n",
       "  <tbody>\n",
       "    <tr>\n",
       "      <th>1</th>\n",
       "      <td>0.0</td>\n",
       "      <td>-0.997272</td>\n",
       "    </tr>\n",
       "    <tr>\n",
       "      <th>2</th>\n",
       "      <td>2.0</td>\n",
       "      <td>0.998112</td>\n",
       "    </tr>\n",
       "    <tr>\n",
       "      <th>3</th>\n",
       "      <td>1.0</td>\n",
       "      <td>0.000420</td>\n",
       "    </tr>\n",
       "    <tr>\n",
       "      <th>4</th>\n",
       "      <td>1.0</td>\n",
       "      <td>0.000420</td>\n",
       "    </tr>\n",
       "    <tr>\n",
       "      <th>5</th>\n",
       "      <td>0.0</td>\n",
       "      <td>-0.997272</td>\n",
       "    </tr>\n",
       "  </tbody>\n",
       "</table>\n",
       "</div>"
      ],
      "text/plain": [
       "   Full_meals_eaten  Z_Score_Full_meals_eaten\n",
       "1               0.0                 -0.997272\n",
       "2               2.0                  0.998112\n",
       "3               1.0                  0.000420\n",
       "4               1.0                  0.000420\n",
       "5               0.0                 -0.997272"
      ]
     },
     "execution_count": 71,
     "metadata": {},
     "output_type": "execute_result"
    }
   ],
   "source": [
    "df['Z_Score_Full_meals_eaten'] = stats.zscore(df['Full_meals_eaten'])\n",
    "df[['Full_meals_eaten','Z_Score_Full_meals_eaten']].head()"
   ]
  },
  {
   "cell_type": "code",
   "execution_count": 72,
   "id": "a144fc14",
   "metadata": {},
   "outputs": [
    {
     "data": {
      "image/png": "[encoded data removed]",
      "text/plain": [
       "<Figure size 640x480 with 1 Axes>"
      ]
     },
     "metadata": {},
     "output_type": "display_data"
    }
   ],
   "source": [
    "plt.hist(df['Z_Score_Full_meals_eaten'])\n",
    "plt.show()"
   ]
  },
  {
   "cell_type": "code",
   "execution_count": 73,
   "id": "cfc821b2",
   "metadata": {},
   "outputs": [
    {
     "data": {
      "image/png": "[encoded data removed]",
      "text/plain": [
       "<Figure size 640x480 with 1 Axes>"
      ]
     },
     "metadata": {},
     "output_type": "display_data"
    }
   ],
   "source": [
    "plt.hist(df['Full_meals_eaten'])\n",
    "plt.show()"
   ]
  },
  {
   "cell_type": "code",
   "execution_count": 74,
   "id": "45e2c335",
   "metadata": {},
   "outputs": [
    {
     "data": {
      "image/png": "[encoded data removed]",
      "text/plain": [
       "<Figure size 640x480 with 1 Axes>"
      ]
     },
     "metadata": {},
     "output_type": "display_data"
    }
   ],
   "source": [
    "boxplot = sns.boxplot(x='VitD_supp', data=df)"
   ]
  },
  {
   "cell_type": "code",
   "execution_count": 75,
   "id": "3a45aca0",
   "metadata": {},
   "outputs": [
    {
     "data": {
      "text/html": [
       "<div>\n",
       "<style scoped>\n",
       "    .dataframe tbody tr th:only-of-type {\n",
       "        vertical-align: middle;\n",
       "    }\n",
       "\n",
       "    .dataframe tbody tr th {\n",
       "        vertical-align: top;\n",
       "    }\n",
       "\n",
       "    .dataframe thead th {\n",
       "        text-align: right;\n",
       "    }\n",
       "</style>\n",
       "<table border=\"1\" class=\"dataframe\">\n",
       "  <thead>\n",
       "    <tr style=\"text-align: right;\">\n",
       "      <th></th>\n",
       "      <th>VitD_supp</th>\n",
       "      <th>Z_Score_VitD_supp</th>\n",
       "    </tr>\n",
       "  </thead>\n",
       "  <tbody>\n",
       "    <tr>\n",
       "      <th>1</th>\n",
       "      <td>0</td>\n",
       "      <td>-0.634804</td>\n",
       "    </tr>\n",
       "    <tr>\n",
       "      <th>2</th>\n",
       "      <td>1</td>\n",
       "      <td>0.963563</td>\n",
       "    </tr>\n",
       "    <tr>\n",
       "      <th>3</th>\n",
       "      <td>0</td>\n",
       "      <td>-0.634804</td>\n",
       "    </tr>\n",
       "    <tr>\n",
       "      <th>4</th>\n",
       "      <td>0</td>\n",
       "      <td>-0.634804</td>\n",
       "    </tr>\n",
       "    <tr>\n",
       "      <th>5</th>\n",
       "      <td>2</td>\n",
       "      <td>2.561930</td>\n",
       "    </tr>\n",
       "  </tbody>\n",
       "</table>\n",
       "</div>"
      ],
      "text/plain": [
       "   VitD_supp  Z_Score_VitD_supp\n",
       "1          0          -0.634804\n",
       "2          1           0.963563\n",
       "3          0          -0.634804\n",
       "4          0          -0.634804\n",
       "5          2           2.561930"
      ]
     },
     "execution_count": 75,
     "metadata": {},
     "output_type": "execute_result"
    }
   ],
   "source": [
    "df['Z_Score_VitD_supp'] = stats.zscore(df['VitD_supp'])\n",
    "df[['VitD_supp','Z_Score_VitD_supp']].head()"
   ]
  },
  {
   "cell_type": "code",
   "execution_count": 76,
   "id": "1a7218e1",
   "metadata": {},
   "outputs": [
    {
     "data": {
      "image/png": "[encoded data removed]",
      "text/plain": [
       "<Figure size 640x480 with 1 Axes>"
      ]
     },
     "metadata": {},
     "output_type": "display_data"
    }
   ],
   "source": [
    "plt.hist(df['Z_Score_VitD_supp'])\n",
    "plt.show()"
   ]
  },
  {
   "cell_type": "code",
   "execution_count": 77,
   "id": "583f42ca",
   "metadata": {},
   "outputs": [
    {
     "name": "stdout",
     "output_type": "stream",
     "text": [
      "<class 'pandas.core.frame.DataFrame'>\n",
      "Int64Index: 65 entries, 63 to 9983\n",
      "Data columns (total 59 columns):\n",
      " #   Column                    Non-Null Count  Dtype  \n",
      "---  ------                    --------------  -----  \n",
      " 0   CaseOrder                 65 non-null     int64  \n",
      " 1   Customer_id               65 non-null     object \n",
      " 2   Interaction               65 non-null     object \n",
      " 3   UID                       65 non-null     object \n",
      " 4   City                      65 non-null     object \n",
      " 5   State                     65 non-null     object \n",
      " 6   County                    65 non-null     object \n",
      " 7   Zip                       65 non-null     int64  \n",
      " 8   Lat                       65 non-null     float64\n",
      " 9   Lng                       65 non-null     float64\n",
      " 10  Population                65 non-null     int64  \n",
      " 11  Area                      65 non-null     object \n",
      " 12  Timezone                  65 non-null     object \n",
      " 13  Job                       65 non-null     object \n",
      " 14  Children                  65 non-null     float64\n",
      " 15  Age                       65 non-null     float64\n",
      " 16  Education                 65 non-null     object \n",
      " 17  Employment                65 non-null     object \n",
      " 18  Income                    65 non-null     float64\n",
      " 19  Marital                   65 non-null     object \n",
      " 20  Gender                    65 non-null     object \n",
      " 21  ReAdmis                   65 non-null     object \n",
      " 22  VitD_levels               65 non-null     float64\n",
      " 23  Doc_visits                65 non-null     int64  \n",
      " 24  Full_meals_eaten          65 non-null     float64\n",
      " 25  VitD_supp                 65 non-null     int64  \n",
      " 26  Soft_drink                65 non-null     object \n",
      " 27  Initial_admin             65 non-null     object \n",
      " 28  HighBlood                 65 non-null     object \n",
      " 29  Stroke                    65 non-null     object \n",
      " 30  Complication_risk         65 non-null     object \n",
      " 31  Overweight                65 non-null     float64\n",
      " 32  Arthritis                 65 non-null     object \n",
      " 33  Diabetes                  65 non-null     object \n",
      " 34  Hyperlipidemia            65 non-null     object \n",
      " 35  BackPain                  65 non-null     object \n",
      " 36  Anxiety                   65 non-null     float64\n",
      " 37  Allergic_rhinitis         65 non-null     object \n",
      " 38  Reflux_esophagitis        65 non-null     object \n",
      " 39  Asthma                    65 non-null     object \n",
      " 40  Services                  65 non-null     object \n",
      " 41  Initial_days              65 non-null     float64\n",
      " 42  TotalCharge               65 non-null     float64\n",
      " 43  Additional_charges        65 non-null     float64\n",
      " 44  Item1                     65 non-null     int64  \n",
      " 45  Item2                     65 non-null     int64  \n",
      " 46  Item3                     65 non-null     int64  \n",
      " 47  Item4                     65 non-null     int64  \n",
      " 48  Item5                     65 non-null     int64  \n",
      " 49  Item6                     65 non-null     int64  \n",
      " 50  Item7                     65 non-null     int64  \n",
      " 51  Item8                     65 non-null     int64  \n",
      " 52  Z_Score_Children          65 non-null     float64\n",
      " 53  Z_Score_Age               65 non-null     float64\n",
      " 54  Z_Score_Income            65 non-null     float64\n",
      " 55  Z_Score_VitD_levels       65 non-null     float64\n",
      " 56  Z_Score_Doc_visits        65 non-null     float64\n",
      " 57  Z_Score_Full_meals_eaten  65 non-null     float64\n",
      " 58  Z_Score_VitD_supp         65 non-null     float64\n",
      "dtypes: float64(19), int64(13), object(27)\n",
      "memory usage: 30.5+ KB\n"
     ]
    }
   ],
   "source": [
    "VitD_supp_query = df.query('VitD_supp > 2')\n",
    "VitD_supp_query.info()"
   ]
  },
  {
   "cell_type": "code",
   "execution_count": 78,
   "id": "73b871ec",
   "metadata": {},
   "outputs": [
    {
     "data": {
      "text/plain": [
       "0    6369\n",
       "1    2561\n",
       "2     505\n",
       "3      59\n",
       "4       5\n",
       "5       1\n",
       "Name: VitD_supp, dtype: int64"
      ]
     },
     "execution_count": 78,
     "metadata": {},
     "output_type": "execute_result"
    }
   ],
   "source": [
    "df['VitD_supp'].value_counts()"
   ]
  },
  {
   "cell_type": "code",
   "execution_count": 79,
   "id": "55ee882d",
   "metadata": {},
   "outputs": [
    {
     "data": {
      "image/png": "[encoded data removed]",
      "text/plain": [
       "<Figure size 640x480 with 1 Axes>"
      ]
     },
     "metadata": {},
     "output_type": "display_data"
    }
   ],
   "source": [
    "boxplot = sns.boxplot(x='VitD_supp', data=df)"
   ]
  },
  {
   "cell_type": "code",
   "execution_count": 80,
   "id": "1e6c3761",
   "metadata": {},
   "outputs": [
    {
     "data": {
      "text/html": [
       "<div>\n",
       "<style scoped>\n",
       "    .dataframe tbody tr th:only-of-type {\n",
       "        vertical-align: middle;\n",
       "    }\n",
       "\n",
       "    .dataframe tbody tr th {\n",
       "        vertical-align: top;\n",
       "    }\n",
       "\n",
       "    .dataframe thead th {\n",
       "        text-align: right;\n",
       "    }\n",
       "</style>\n",
       "<table border=\"1\" class=\"dataframe\">\n",
       "  <thead>\n",
       "    <tr style=\"text-align: right;\">\n",
       "      <th></th>\n",
       "      <th>VitD_supp</th>\n",
       "      <th>Z_Score_VitD_supp</th>\n",
       "    </tr>\n",
       "  </thead>\n",
       "  <tbody>\n",
       "    <tr>\n",
       "      <th>1</th>\n",
       "      <td>0</td>\n",
       "      <td>-0.634804</td>\n",
       "    </tr>\n",
       "    <tr>\n",
       "      <th>2</th>\n",
       "      <td>1</td>\n",
       "      <td>0.963563</td>\n",
       "    </tr>\n",
       "    <tr>\n",
       "      <th>3</th>\n",
       "      <td>0</td>\n",
       "      <td>-0.634804</td>\n",
       "    </tr>\n",
       "    <tr>\n",
       "      <th>4</th>\n",
       "      <td>0</td>\n",
       "      <td>-0.634804</td>\n",
       "    </tr>\n",
       "    <tr>\n",
       "      <th>5</th>\n",
       "      <td>2</td>\n",
       "      <td>2.561930</td>\n",
       "    </tr>\n",
       "  </tbody>\n",
       "</table>\n",
       "</div>"
      ],
      "text/plain": [
       "   VitD_supp  Z_Score_VitD_supp\n",
       "1          0          -0.634804\n",
       "2          1           0.963563\n",
       "3          0          -0.634804\n",
       "4          0          -0.634804\n",
       "5          2           2.561930"
      ]
     },
     "execution_count": 80,
     "metadata": {},
     "output_type": "execute_result"
    }
   ],
   "source": [
    "df['Z_Score_VitD_supp'] = stats.zscore(df['VitD_supp'])\n",
    "df[['VitD_supp','Z_Score_VitD_supp']].head()"
   ]
  },
  {
   "cell_type": "code",
   "execution_count": 81,
   "id": "d8de6047",
   "metadata": {},
   "outputs": [
    {
     "data": {
      "image/png": "[encoded data removed]",
      "text/plain": [
       "<Figure size 640x480 with 1 Axes>"
      ]
     },
     "metadata": {},
     "output_type": "display_data"
    }
   ],
   "source": [
    "plt.hist(df['Z_Score_VitD_supp'])\n",
    "plt.show()"
   ]
  },
  {
   "cell_type": "code",
   "execution_count": 82,
   "id": "f8baf840",
   "metadata": {},
   "outputs": [
    {
     "data": {
      "image/png": "[encoded data removed]",
      "text/plain": [
       "<Figure size 640x480 with 1 Axes>"
      ]
     },
     "metadata": {},
     "output_type": "display_data"
    }
   ],
   "source": [
    "boxplot = sns.boxplot(x='Initial_days', data=df)"
   ]
  },
  {
   "cell_type": "code",
   "execution_count": 83,
   "id": "906e7196",
   "metadata": {},
   "outputs": [
    {
     "data": {
      "text/html": [
       "<div>\n",
       "<style scoped>\n",
       "    .dataframe tbody tr th:only-of-type {\n",
       "        vertical-align: middle;\n",
       "    }\n",
       "\n",
       "    .dataframe tbody tr th {\n",
       "        vertical-align: top;\n",
       "    }\n",
       "\n",
       "    .dataframe thead th {\n",
       "        text-align: right;\n",
       "    }\n",
       "</style>\n",
       "<table border=\"1\" class=\"dataframe\">\n",
       "  <thead>\n",
       "    <tr style=\"text-align: right;\">\n",
       "      <th></th>\n",
       "      <th>Initial_days</th>\n",
       "      <th>Z_Score_Initial_days</th>\n",
       "    </tr>\n",
       "  </thead>\n",
       "  <tbody>\n",
       "    <tr>\n",
       "      <th>1</th>\n",
       "      <td>10.585770</td>\n",
       "      <td>-0.958493</td>\n",
       "    </tr>\n",
       "    <tr>\n",
       "      <th>2</th>\n",
       "      <td>15.129562</td>\n",
       "      <td>-0.775697</td>\n",
       "    </tr>\n",
       "    <tr>\n",
       "      <th>3</th>\n",
       "      <td>4.772177</td>\n",
       "      <td>-1.192374</td>\n",
       "    </tr>\n",
       "    <tr>\n",
       "      <th>4</th>\n",
       "      <td>1.714879</td>\n",
       "      <td>-1.315368</td>\n",
       "    </tr>\n",
       "    <tr>\n",
       "      <th>5</th>\n",
       "      <td>1.254807</td>\n",
       "      <td>-1.333877</td>\n",
       "    </tr>\n",
       "  </tbody>\n",
       "</table>\n",
       "</div>"
      ],
      "text/plain": [
       "   Initial_days  Z_Score_Initial_days\n",
       "1     10.585770             -0.958493\n",
       "2     15.129562             -0.775697\n",
       "3      4.772177             -1.192374\n",
       "4      1.714879             -1.315368\n",
       "5      1.254807             -1.333877"
      ]
     },
     "execution_count": 83,
     "metadata": {},
     "output_type": "execute_result"
    }
   ],
   "source": [
    "df['Z_Score_Initial_days'] = stats.zscore(df['Initial_days'])\n",
    "df[['Initial_days','Z_Score_Initial_days']].head()"
   ]
  },
  {
   "cell_type": "code",
   "execution_count": 84,
   "id": "9a8064d3",
   "metadata": {},
   "outputs": [
    {
     "data": {
      "image/png": "[encoded data removed]",
      "text/plain": [
       "<Figure size 640x480 with 1 Axes>"
      ]
     },
     "metadata": {},
     "output_type": "display_data"
    }
   ],
   "source": [
    "plt.hist(df['Z_Score_Initial_days'])\n",
    "plt.show()"
   ]
  },
  {
   "cell_type": "code",
   "execution_count": 85,
   "id": "a83e7717",
   "metadata": {},
   "outputs": [
    {
     "data": {
      "image/png": "[encoded data removed]",
      "text/plain": [
       "<Figure size 640x480 with 1 Axes>"
      ]
     },
     "metadata": {},
     "output_type": "display_data"
    }
   ],
   "source": [
    "boxplot = sns.boxplot(x='TotalCharge', data=df)"
   ]
  },
  {
   "cell_type": "code",
   "execution_count": 86,
   "id": "04a8693c",
   "metadata": {},
   "outputs": [
    {
     "data": {
      "text/html": [
       "<div>\n",
       "<style scoped>\n",
       "    .dataframe tbody tr th:only-of-type {\n",
       "        vertical-align: middle;\n",
       "    }\n",
       "\n",
       "    .dataframe tbody tr th {\n",
       "        vertical-align: top;\n",
       "    }\n",
       "\n",
       "    .dataframe thead th {\n",
       "        text-align: right;\n",
       "    }\n",
       "</style>\n",
       "<table border=\"1\" class=\"dataframe\">\n",
       "  <thead>\n",
       "    <tr style=\"text-align: right;\">\n",
       "      <th></th>\n",
       "      <th>TotalCharge</th>\n",
       "      <th>Z_Score_TotalCharge</th>\n",
       "    </tr>\n",
       "  </thead>\n",
       "  <tbody>\n",
       "    <tr>\n",
       "      <th>1</th>\n",
       "      <td>3191.048774</td>\n",
       "      <td>-0.956712</td>\n",
       "    </tr>\n",
       "    <tr>\n",
       "      <th>2</th>\n",
       "      <td>4214.905346</td>\n",
       "      <td>-0.493546</td>\n",
       "    </tr>\n",
       "    <tr>\n",
       "      <th>3</th>\n",
       "      <td>2177.586768</td>\n",
       "      <td>-1.415175</td>\n",
       "    </tr>\n",
       "    <tr>\n",
       "      <th>4</th>\n",
       "      <td>2465.118965</td>\n",
       "      <td>-1.285103</td>\n",
       "    </tr>\n",
       "    <tr>\n",
       "      <th>5</th>\n",
       "      <td>1885.655137</td>\n",
       "      <td>-1.547237</td>\n",
       "    </tr>\n",
       "  </tbody>\n",
       "</table>\n",
       "</div>"
      ],
      "text/plain": [
       "   TotalCharge  Z_Score_TotalCharge\n",
       "1  3191.048774            -0.956712\n",
       "2  4214.905346            -0.493546\n",
       "3  2177.586768            -1.415175\n",
       "4  2465.118965            -1.285103\n",
       "5  1885.655137            -1.547237"
      ]
     },
     "execution_count": 86,
     "metadata": {},
     "output_type": "execute_result"
    }
   ],
   "source": [
    "df['Z_Score_TotalCharge'] = stats.zscore(df['TotalCharge'])\n",
    "df[['TotalCharge','Z_Score_TotalCharge']].head()"
   ]
  },
  {
   "cell_type": "code",
   "execution_count": 87,
   "id": "c381e445",
   "metadata": {},
   "outputs": [
    {
     "data": {
      "image/png": "[encoded data removed]",
      "text/plain": [
       "<Figure size 640x480 with 1 Axes>"
      ]
     },
     "metadata": {},
     "output_type": "display_data"
    }
   ],
   "source": [
    "plt.hist(df['Z_Score_TotalCharge'])\n",
    "plt.show()"
   ]
  },
  {
   "cell_type": "code",
   "execution_count": 88,
   "id": "f1203697",
   "metadata": {},
   "outputs": [
    {
     "data": {
      "image/png": "[encoded data removed]",
      "text/plain": [
       "<Figure size 640x480 with 1 Axes>"
      ]
     },
     "metadata": {},
     "output_type": "display_data"
    }
   ],
   "source": [
    "boxplot = sns.boxplot(x='Additional_charges', data=df)"
   ]
  },
  {
   "cell_type": "code",
   "execution_count": 89,
   "id": "8db1ecb5",
   "metadata": {},
   "outputs": [
    {
     "data": {
      "text/html": [
       "<div>\n",
       "<style scoped>\n",
       "    .dataframe tbody tr th:only-of-type {\n",
       "        vertical-align: middle;\n",
       "    }\n",
       "\n",
       "    .dataframe tbody tr th {\n",
       "        vertical-align: top;\n",
       "    }\n",
       "\n",
       "    .dataframe thead th {\n",
       "        text-align: right;\n",
       "    }\n",
       "</style>\n",
       "<table border=\"1\" class=\"dataframe\">\n",
       "  <thead>\n",
       "    <tr style=\"text-align: right;\">\n",
       "      <th></th>\n",
       "      <th>Additional_charges</th>\n",
       "      <th>Z_Score_Additional_charges</th>\n",
       "    </tr>\n",
       "  </thead>\n",
       "  <tbody>\n",
       "    <tr>\n",
       "      <th>1</th>\n",
       "      <td>17939.403420</td>\n",
       "      <td>0.769443</td>\n",
       "    </tr>\n",
       "    <tr>\n",
       "      <th>2</th>\n",
       "      <td>17612.998120</td>\n",
       "      <td>0.719476</td>\n",
       "    </tr>\n",
       "    <tr>\n",
       "      <th>3</th>\n",
       "      <td>17505.192460</td>\n",
       "      <td>0.702973</td>\n",
       "    </tr>\n",
       "    <tr>\n",
       "      <th>4</th>\n",
       "      <td>12993.437350</td>\n",
       "      <td>0.012298</td>\n",
       "    </tr>\n",
       "    <tr>\n",
       "      <th>5</th>\n",
       "      <td>3716.525786</td>\n",
       "      <td>-1.407844</td>\n",
       "    </tr>\n",
       "  </tbody>\n",
       "</table>\n",
       "</div>"
      ],
      "text/plain": [
       "   Additional_charges  Z_Score_Additional_charges\n",
       "1        17939.403420                    0.769443\n",
       "2        17612.998120                    0.719476\n",
       "3        17505.192460                    0.702973\n",
       "4        12993.437350                    0.012298\n",
       "5         3716.525786                   -1.407844"
      ]
     },
     "execution_count": 89,
     "metadata": {},
     "output_type": "execute_result"
    }
   ],
   "source": [
    "df['Z_Score_Additional_charges'] = stats.zscore(df['Additional_charges'])\n",
    "df[['Additional_charges','Z_Score_Additional_charges']].head()"
   ]
  },
  {
   "cell_type": "code",
   "execution_count": 90,
   "id": "ed39c3f3",
   "metadata": {},
   "outputs": [
    {
     "data": {
      "image/png": "[encoded data removed]",
      "text/plain": [
       "<Figure size 640x480 with 1 Axes>"
      ]
     },
     "metadata": {},
     "output_type": "display_data"
    }
   ],
   "source": [
    "plt.hist(df['Z_Score_Additional_charges'])\n",
    "plt.show()"
   ]
  },
  {
   "cell_type": "code",
   "execution_count": 91,
   "id": "50e07372",
   "metadata": {},
   "outputs": [
    {
     "data": {
      "text/plain": [
       "count    9.500000e+03\n",
       "mean    -2.010585e-16\n",
       "std      1.000053e+00\n",
       "min     -1.498290e+00\n",
       "25%     -7.540988e-01\n",
       "50%     -2.085185e-01\n",
       "75%      4.102476e-01\n",
       "max      2.702378e+00\n",
       "Name: Z_Score_Additional_charges, dtype: float64"
      ]
     },
     "execution_count": 91,
     "metadata": {},
     "output_type": "execute_result"
    }
   ],
   "source": [
    "df['Z_Score_Additional_charges'].describe()"
   ]
  },
  {
   "cell_type": "code",
   "execution_count": 92,
   "id": "c99e2e74",
   "metadata": {},
   "outputs": [
    {
     "data": {
      "image/png": "[encoded data removed]",
      "text/plain": [
       "<Figure size 640x480 with 1 Axes>"
      ]
     },
     "metadata": {},
     "output_type": "display_data"
    }
   ],
   "source": [
    "plt.hist(df['Additional_charges'])\n",
    "plt.show()"
   ]
  },
  {
   "cell_type": "code",
   "execution_count": 93,
   "id": "7f139686",
   "metadata": {},
   "outputs": [
    {
     "name": "stdout",
     "output_type": "stream",
     "text": [
      "<class 'pandas.core.frame.DataFrame'>\n",
      "Int64Index: 9500 entries, 1 to 10000\n",
      "Data columns (total 62 columns):\n",
      " #   Column                      Non-Null Count  Dtype  \n",
      "---  ------                      --------------  -----  \n",
      " 0   CaseOrder                   9500 non-null   int64  \n",
      " 1   Customer_id                 9500 non-null   object \n",
      " 2   Interaction                 9500 non-null   object \n",
      " 3   UID                         9500 non-null   object \n",
      " 4   City                        9500 non-null   object \n",
      " 5   State                       9500 non-null   object \n",
      " 6   County                      9500 non-null   object \n",
      " 7   Zip                         9500 non-null   int64  \n",
      " 8   Lat                         9500 non-null   float64\n",
      " 9   Lng                         9500 non-null   float64\n",
      " 10  Population                  9500 non-null   int64  \n",
      " 11  Area                        9500 non-null   object \n",
      " 12  Timezone                    9500 non-null   object \n",
      " 13  Job                         9500 non-null   object \n",
      " 14  Children                    9500 non-null   float64\n",
      " 15  Age                         9500 non-null   float64\n",
      " 16  Education                   9500 non-null   object \n",
      " 17  Employment                  9500 non-null   object \n",
      " 18  Income                      9500 non-null   float64\n",
      " 19  Marital                     9500 non-null   object \n",
      " 20  Gender                      9500 non-null   object \n",
      " 21  ReAdmis                     9500 non-null   object \n",
      " 22  VitD_levels                 9500 non-null   float64\n",
      " 23  Doc_visits                  9500 non-null   int64  \n",
      " 24  Full_meals_eaten            9500 non-null   float64\n",
      " 25  VitD_supp                   9500 non-null   int64  \n",
      " 26  Soft_drink                  9500 non-null   object \n",
      " 27  Initial_admin               9500 non-null   object \n",
      " 28  HighBlood                   9500 non-null   object \n",
      " 29  Stroke                      9500 non-null   object \n",
      " 30  Complication_risk           9500 non-null   object \n",
      " 31  Overweight                  9500 non-null   float64\n",
      " 32  Arthritis                   9500 non-null   object \n",
      " 33  Diabetes                    9500 non-null   object \n",
      " 34  Hyperlipidemia              9500 non-null   object \n",
      " 35  BackPain                    9500 non-null   object \n",
      " 36  Anxiety                     9500 non-null   float64\n",
      " 37  Allergic_rhinitis           9500 non-null   object \n",
      " 38  Reflux_esophagitis          9500 non-null   object \n",
      " 39  Asthma                      9500 non-null   object \n",
      " 40  Services                    9500 non-null   object \n",
      " 41  Initial_days                9500 non-null   float64\n",
      " 42  TotalCharge                 9500 non-null   float64\n",
      " 43  Additional_charges          9500 non-null   float64\n",
      " 44  Item1                       9500 non-null   int64  \n",
      " 45  Item2                       9500 non-null   int64  \n",
      " 46  Item3                       9500 non-null   int64  \n",
      " 47  Item4                       9500 non-null   int64  \n",
      " 48  Item5                       9500 non-null   int64  \n",
      " 49  Item6                       9500 non-null   int64  \n",
      " 50  Item7                       9500 non-null   int64  \n",
      " 51  Item8                       9500 non-null   int64  \n",
      " 52  Z_Score_Children            9500 non-null   float64\n",
      " 53  Z_Score_Age                 9500 non-null   float64\n",
      " 54  Z_Score_Income              9500 non-null   float64\n",
      " 55  Z_Score_VitD_levels         9500 non-null   float64\n",
      " 56  Z_Score_Doc_visits          9500 non-null   float64\n",
      " 57  Z_Score_Full_meals_eaten    9500 non-null   float64\n",
      " 58  Z_Score_VitD_supp           9500 non-null   float64\n",
      " 59  Z_Score_Initial_days        9500 non-null   float64\n",
      " 60  Z_Score_TotalCharge         9500 non-null   float64\n",
      " 61  Z_Score_Additional_charges  9500 non-null   float64\n",
      "dtypes: float64(22), int64(13), object(27)\n",
      "memory usage: 4.6+ MB\n"
     ]
    }
   ],
   "source": [
    "df.info()"
   ]
  },
  {
   "cell_type": "code",
   "execution_count": 94,
   "id": "f5dff44d",
   "metadata": {},
   "outputs": [
    {
     "data": {
      "text/plain": [
       "1.0    7019\n",
       "0.0    2481\n",
       "Name: Overweight, dtype: int64"
      ]
     },
     "execution_count": 94,
     "metadata": {},
     "output_type": "execute_result"
    }
   ],
   "source": [
    "df['Overweight'].value_counts()"
   ]
  },
  {
   "cell_type": "code",
   "execution_count": 95,
   "id": "8040df1b",
   "metadata": {},
   "outputs": [
    {
     "data": {
      "text/plain": [
       "0.0    6751\n",
       "1.0    2749\n",
       "Name: Anxiety, dtype: int64"
      ]
     },
     "execution_count": 95,
     "metadata": {},
     "output_type": "execute_result"
    }
   ],
   "source": [
    "df['Anxiety'].value_counts()"
   ]
  },
  {
   "cell_type": "code",
   "execution_count": 96,
   "id": "e8c215f3",
   "metadata": {},
   "outputs": [],
   "source": [
    "df['Overweight'] = df['Overweight'].replace([0,1],['No','Yes'])\n",
    "df['Anxiety'] = df['Anxiety'].replace([0,1],['No','Yes'])"
   ]
  },
  {
   "cell_type": "code",
   "execution_count": 97,
   "id": "cb2a3d7c",
   "metadata": {},
   "outputs": [
    {
     "data": {
      "text/plain": [
       "Yes    7019\n",
       "No     2481\n",
       "Name: Overweight, dtype: int64"
      ]
     },
     "execution_count": 97,
     "metadata": {},
     "output_type": "execute_result"
    }
   ],
   "source": [
    "df['Overweight'].value_counts()"
   ]
  },
  {
   "cell_type": "code",
   "execution_count": 98,
   "id": "be4d1be8",
   "metadata": {},
   "outputs": [
    {
     "data": {
      "text/plain": [
       "No     6751\n",
       "Yes    2749\n",
       "Name: Anxiety, dtype: int64"
      ]
     },
     "execution_count": 98,
     "metadata": {},
     "output_type": "execute_result"
    }
   ],
   "source": [
    "df['Anxiety'].value_counts()"
   ]
  },
  {
   "cell_type": "code",
   "execution_count": 99,
   "id": "db4d645c",
   "metadata": {},
   "outputs": [
    {
     "name": "stdout",
     "output_type": "stream",
     "text": [
      "<class 'pandas.core.frame.DataFrame'>\n",
      "Int64Index: 9500 entries, 1 to 10000\n",
      "Data columns (total 62 columns):\n",
      " #   Column                      Non-Null Count  Dtype  \n",
      "---  ------                      --------------  -----  \n",
      " 0   CaseOrder                   9500 non-null   int64  \n",
      " 1   Customer_id                 9500 non-null   object \n",
      " 2   Interaction                 9500 non-null   object \n",
      " 3   UID                         9500 non-null   object \n",
      " 4   City                        9500 non-null   object \n",
      " 5   State                       9500 non-null   object \n",
      " 6   County                      9500 non-null   object \n",
      " 7   Zip                         9500 non-null   int64  \n",
      " 8   Lat                         9500 non-null   float64\n",
      " 9   Lng                         9500 non-null   float64\n",
      " 10  Population                  9500 non-null   int64  \n",
      " 11  Area                        9500 non-null   object \n",
      " 12  Timezone                    9500 non-null   object \n",
      " 13  Job                         9500 non-null   object \n",
      " 14  Children                    9500 non-null   float64\n",
      " 15  Age                         9500 non-null   float64\n",
      " 16  Education                   9500 non-null   object \n",
      " 17  Employment                  9500 non-null   object \n",
      " 18  Income                      9500 non-null   float64\n",
      " 19  Marital                     9500 non-null   object \n",
      " 20  Gender                      9500 non-null   object \n",
      " 21  ReAdmis                     9500 non-null   object \n",
      " 22  VitD_levels                 9500 non-null   float64\n",
      " 23  Doc_visits                  9500 non-null   int64  \n",
      " 24  Full_meals_eaten            9500 non-null   float64\n",
      " 25  VitD_supp                   9500 non-null   int64  \n",
      " 26  Soft_drink                  9500 non-null   object \n",
      " 27  Initial_admin               9500 non-null   object \n",
      " 28  HighBlood                   9500 non-null   object \n",
      " 29  Stroke                      9500 non-null   object \n",
      " 30  Complication_risk           9500 non-null   object \n",
      " 31  Overweight                  9500 non-null   object \n",
      " 32  Arthritis                   9500 non-null   object \n",
      " 33  Diabetes                    9500 non-null   object \n",
      " 34  Hyperlipidemia              9500 non-null   object \n",
      " 35  BackPain                    9500 non-null   object \n",
      " 36  Anxiety                     9500 non-null   object \n",
      " 37  Allergic_rhinitis           9500 non-null   object \n",
      " 38  Reflux_esophagitis          9500 non-null   object \n",
      " 39  Asthma                      9500 non-null   object \n",
      " 40  Services                    9500 non-null   object \n",
      " 41  Initial_days                9500 non-null   float64\n",
      " 42  TotalCharge                 9500 non-null   float64\n",
      " 43  Additional_charges          9500 non-null   float64\n",
      " 44  Item1                       9500 non-null   int64  \n",
      " 45  Item2                       9500 non-null   int64  \n",
      " 46  Item3                       9500 non-null   int64  \n",
      " 47  Item4                       9500 non-null   int64  \n",
      " 48  Item5                       9500 non-null   int64  \n",
      " 49  Item6                       9500 non-null   int64  \n",
      " 50  Item7                       9500 non-null   int64  \n",
      " 51  Item8                       9500 non-null   int64  \n",
      " 52  Z_Score_Children            9500 non-null   float64\n",
      " 53  Z_Score_Age                 9500 non-null   float64\n",
      " 54  Z_Score_Income              9500 non-null   float64\n",
      " 55  Z_Score_VitD_levels         9500 non-null   float64\n",
      " 56  Z_Score_Doc_visits          9500 non-null   float64\n",
      " 57  Z_Score_Full_meals_eaten    9500 non-null   float64\n",
      " 58  Z_Score_VitD_supp           9500 non-null   float64\n",
      " 59  Z_Score_Initial_days        9500 non-null   float64\n",
      " 60  Z_Score_TotalCharge         9500 non-null   float64\n",
      " 61  Z_Score_Additional_charges  9500 non-null   float64\n",
      "dtypes: float64(20), int64(13), object(29)\n",
      "memory usage: 4.6+ MB\n"
     ]
    }
   ],
   "source": [
    "df.info()"
   ]
  },
  {
   "cell_type": "code",
   "execution_count": 101,
   "id": "af29b1e0",
   "metadata": {},
   "outputs": [],
   "source": [
    "df.to_csv(r'C:\\Users\\david\\Downloads\\D206\\performance_assessment_DS.csv')\n",
    "outliers.to_csv(r'C:\\Users\\david\\Downloads\\D206\\performance_assessment_outliers_DS.csv')"
   ]
  },
  {
   "cell_type": "code",
   "execution_count": 102,
   "id": "e859a65f",
   "metadata": {},
   "outputs": [
    {
     "data": {
      "text/plain": [
       "PCA(n_components=10)"
      ]
     },
     "execution_count": 102,
     "metadata": {},
     "output_type": "execute_result"
    }
   ],
   "source": [
    "df_pca = df[['Children','Age','Income','VitD_levels','Doc_visits','Full_meals_eaten','VitD_supp','Initial_days','TotalCharge','Additional_charges']]\n",
    "\n",
    "df_pca_normalized = (df_pca - df_pca.mean()) / df_pca.std()\n",
    "\n",
    "pca = PCA(n_components=df_pca.shape[1])\n",
    "\n",
    "pca.fit(df_pca_normalized)"
   ]
  },
  {
   "cell_type": "code",
   "execution_count": 103,
   "id": "318a3a84",
   "metadata": {},
   "outputs": [
    {
     "data": {
      "text/html": [
       "<div>\n",
       "<style scoped>\n",
       "    .dataframe tbody tr th:only-of-type {\n",
       "        vertical-align: middle;\n",
       "    }\n",
       "\n",
       "    .dataframe tbody tr th {\n",
       "        vertical-align: top;\n",
       "    }\n",
       "\n",
       "    .dataframe thead th {\n",
       "        text-align: right;\n",
       "    }\n",
       "</style>\n",
       "<table border=\"1\" class=\"dataframe\">\n",
       "  <thead>\n",
       "    <tr style=\"text-align: right;\">\n",
       "      <th></th>\n",
       "      <th>PC1</th>\n",
       "      <th>PC2</th>\n",
       "      <th>PC3</th>\n",
       "      <th>PC4</th>\n",
       "      <th>PC5</th>\n",
       "      <th>PC6</th>\n",
       "      <th>PC7</th>\n",
       "      <th>PC8</th>\n",
       "      <th>PC9</th>\n",
       "      <th>PC10</th>\n",
       "    </tr>\n",
       "  </thead>\n",
       "  <tbody>\n",
       "    <tr>\n",
       "      <th>0</th>\n",
       "      <td>-1.321860</td>\n",
       "      <td>0.598774</td>\n",
       "      <td>0.480486</td>\n",
       "      <td>0.071654</td>\n",
       "      <td>0.384336</td>\n",
       "      <td>-0.749718</td>\n",
       "      <td>-0.431268</td>\n",
       "      <td>-1.140161</td>\n",
       "      <td>0.562880</td>\n",
       "      <td>-0.034109</td>\n",
       "    </tr>\n",
       "    <tr>\n",
       "      <th>1</th>\n",
       "      <td>-0.815555</td>\n",
       "      <td>0.502468</td>\n",
       "      <td>0.015238</td>\n",
       "      <td>0.305240</td>\n",
       "      <td>0.345266</td>\n",
       "      <td>1.524348</td>\n",
       "      <td>0.951664</td>\n",
       "      <td>1.315534</td>\n",
       "      <td>0.566970</td>\n",
       "      <td>0.144682</td>\n",
       "    </tr>\n",
       "    <tr>\n",
       "      <th>2</th>\n",
       "      <td>-1.813737</td>\n",
       "      <td>0.566547</td>\n",
       "      <td>-1.015702</td>\n",
       "      <td>-1.528487</td>\n",
       "      <td>0.519105</td>\n",
       "      <td>0.665018</td>\n",
       "      <td>-0.320131</td>\n",
       "      <td>0.152950</td>\n",
       "      <td>0.530988</td>\n",
       "      <td>-0.168748</td>\n",
       "    </tr>\n",
       "    <tr>\n",
       "      <th>3</th>\n",
       "      <td>-1.804541</td>\n",
       "      <td>1.099056</td>\n",
       "      <td>-0.250628</td>\n",
       "      <td>-0.252761</td>\n",
       "      <td>-1.237232</td>\n",
       "      <td>-0.024485</td>\n",
       "      <td>0.748882</td>\n",
       "      <td>-0.721549</td>\n",
       "      <td>-0.941679</td>\n",
       "      <td>0.061814</td>\n",
       "    </tr>\n",
       "    <tr>\n",
       "      <th>4</th>\n",
       "      <td>-2.082037</td>\n",
       "      <td>-2.057091</td>\n",
       "      <td>1.213249</td>\n",
       "      <td>-0.584305</td>\n",
       "      <td>-1.099200</td>\n",
       "      <td>0.693507</td>\n",
       "      <td>-2.807554</td>\n",
       "      <td>1.131072</td>\n",
       "      <td>0.291664</td>\n",
       "      <td>-0.100830</td>\n",
       "    </tr>\n",
       "    <tr>\n",
       "      <th>...</th>\n",
       "      <td>...</td>\n",
       "      <td>...</td>\n",
       "      <td>...</td>\n",
       "      <td>...</td>\n",
       "      <td>...</td>\n",
       "      <td>...</td>\n",
       "      <td>...</td>\n",
       "      <td>...</td>\n",
       "      <td>...</td>\n",
       "      <td>...</td>\n",
       "    </tr>\n",
       "    <tr>\n",
       "      <th>9495</th>\n",
       "      <td>0.796341</td>\n",
       "      <td>-1.569878</td>\n",
       "      <td>0.301061</td>\n",
       "      <td>0.109235</td>\n",
       "      <td>-1.125423</td>\n",
       "      <td>0.277820</td>\n",
       "      <td>1.023221</td>\n",
       "      <td>1.290845</td>\n",
       "      <td>0.663792</td>\n",
       "      <td>-0.024895</td>\n",
       "    </tr>\n",
       "    <tr>\n",
       "      <th>9496</th>\n",
       "      <td>2.016321</td>\n",
       "      <td>2.818949</td>\n",
       "      <td>-0.424472</td>\n",
       "      <td>-1.507808</td>\n",
       "      <td>1.770166</td>\n",
       "      <td>0.541000</td>\n",
       "      <td>-0.824554</td>\n",
       "      <td>-0.432026</td>\n",
       "      <td>0.357346</td>\n",
       "      <td>-0.213713</td>\n",
       "    </tr>\n",
       "    <tr>\n",
       "      <th>9497</th>\n",
       "      <td>0.717115</td>\n",
       "      <td>0.176421</td>\n",
       "      <td>0.081869</td>\n",
       "      <td>-0.517735</td>\n",
       "      <td>0.589885</td>\n",
       "      <td>0.112009</td>\n",
       "      <td>2.753122</td>\n",
       "      <td>0.732056</td>\n",
       "      <td>0.239485</td>\n",
       "      <td>0.828129</td>\n",
       "    </tr>\n",
       "    <tr>\n",
       "      <th>9498</th>\n",
       "      <td>1.860327</td>\n",
       "      <td>-1.017760</td>\n",
       "      <td>-0.772177</td>\n",
       "      <td>1.185487</td>\n",
       "      <td>0.854901</td>\n",
       "      <td>1.495949</td>\n",
       "      <td>-0.445131</td>\n",
       "      <td>1.039907</td>\n",
       "      <td>-0.187215</td>\n",
       "      <td>0.098301</td>\n",
       "    </tr>\n",
       "    <tr>\n",
       "      <th>9499</th>\n",
       "      <td>2.210149</td>\n",
       "      <td>-0.264251</td>\n",
       "      <td>1.585120</td>\n",
       "      <td>1.292971</td>\n",
       "      <td>-0.146217</td>\n",
       "      <td>0.987593</td>\n",
       "      <td>0.644835</td>\n",
       "      <td>-0.731449</td>\n",
       "      <td>-0.190252</td>\n",
       "      <td>-0.009125</td>\n",
       "    </tr>\n",
       "  </tbody>\n",
       "</table>\n",
       "<p>9500 rows × 10 columns</p>\n",
       "</div>"
      ],
      "text/plain": [
       "           PC1       PC2       PC3       PC4       PC5       PC6       PC7  \\\n",
       "0    -1.321860  0.598774  0.480486  0.071654  0.384336 -0.749718 -0.431268   \n",
       "1    -0.815555  0.502468  0.015238  0.305240  0.345266  1.524348  0.951664   \n",
       "2    -1.813737  0.566547 -1.015702 -1.528487  0.519105  0.665018 -0.320131   \n",
       "3    -1.804541  1.099056 -0.250628 -0.252761 -1.237232 -0.024485  0.748882   \n",
       "4    -2.082037 -2.057091  1.213249 -0.584305 -1.099200  0.693507 -2.807554   \n",
       "...        ...       ...       ...       ...       ...       ...       ...   \n",
       "9495  0.796341 -1.569878  0.301061  0.109235 -1.125423  0.277820  1.023221   \n",
       "9496  2.016321  2.818949 -0.424472 -1.507808  1.770166  0.541000 -0.824554   \n",
       "9497  0.717115  0.176421  0.081869 -0.517735  0.589885  0.112009  2.753122   \n",
       "9498  1.860327 -1.017760 -0.772177  1.185487  0.854901  1.495949 -0.445131   \n",
       "9499  2.210149 -0.264251  1.585120  1.292971 -0.146217  0.987593  0.644835   \n",
       "\n",
       "           PC8       PC9      PC10  \n",
       "0    -1.140161  0.562880 -0.034109  \n",
       "1     1.315534  0.566970  0.144682  \n",
       "2     0.152950  0.530988 -0.168748  \n",
       "3    -0.721549 -0.941679  0.061814  \n",
       "4     1.131072  0.291664 -0.100830  \n",
       "...        ...       ...       ...  \n",
       "9495  1.290845  0.663792 -0.024895  \n",
       "9496 -0.432026  0.357346 -0.213713  \n",
       "9497  0.732056  0.239485  0.828129  \n",
       "9498  1.039907 -0.187215  0.098301  \n",
       "9499 -0.731449 -0.190252 -0.009125  \n",
       "\n",
       "[9500 rows x 10 columns]"
      ]
     },
     "execution_count": 103,
     "metadata": {},
     "output_type": "execute_result"
    }
   ],
   "source": [
    "test_pca2 = pd.DataFrame(pca.transform(df_pca_normalized), columns =['PC1','PC2','PC3','PC4','PC5','PC6','PC7','PC8','PC9','PC10'])\n",
    "test_pca2"
   ]
  },
  {
   "cell_type": "code",
   "execution_count": 105,
   "id": "1e175c85",
   "metadata": {},
   "outputs": [
    {
     "data": {
      "text/html": [
       "<div>\n",
       "<style scoped>\n",
       "    .dataframe tbody tr th:only-of-type {\n",
       "        vertical-align: middle;\n",
       "    }\n",
       "\n",
       "    .dataframe tbody tr th {\n",
       "        vertical-align: top;\n",
       "    }\n",
       "\n",
       "    .dataframe thead th {\n",
       "        text-align: right;\n",
       "    }\n",
       "</style>\n",
       "<table border=\"1\" class=\"dataframe\">\n",
       "  <thead>\n",
       "    <tr style=\"text-align: right;\">\n",
       "      <th></th>\n",
       "      <th>PC1</th>\n",
       "      <th>PC2</th>\n",
       "      <th>PC3</th>\n",
       "      <th>PC4</th>\n",
       "      <th>PC5</th>\n",
       "      <th>PC6</th>\n",
       "      <th>PC7</th>\n",
       "      <th>PC8</th>\n",
       "      <th>PC9</th>\n",
       "      <th>PC10</th>\n",
       "    </tr>\n",
       "  </thead>\n",
       "  <tbody>\n",
       "    <tr>\n",
       "      <th>Children</th>\n",
       "      <td>0.010092</td>\n",
       "      <td>-0.018993</td>\n",
       "      <td>-0.011204</td>\n",
       "      <td>-0.326750</td>\n",
       "      <td>0.826680</td>\n",
       "      <td>0.332582</td>\n",
       "      <td>0.081417</td>\n",
       "      <td>0.303054</td>\n",
       "      <td>-0.011393</td>\n",
       "      <td>0.006000</td>\n",
       "    </tr>\n",
       "    <tr>\n",
       "      <th>Age</th>\n",
       "      <td>0.044273</td>\n",
       "      <td>0.704860</td>\n",
       "      <td>0.002184</td>\n",
       "      <td>-0.036314</td>\n",
       "      <td>0.000028</td>\n",
       "      <td>-0.006645</td>\n",
       "      <td>-0.004253</td>\n",
       "      <td>-0.015083</td>\n",
       "      <td>-0.706345</td>\n",
       "      <td>0.025994</td>\n",
       "    </tr>\n",
       "    <tr>\n",
       "      <th>Income</th>\n",
       "      <td>-0.000515</td>\n",
       "      <td>-0.003781</td>\n",
       "      <td>0.468361</td>\n",
       "      <td>0.352660</td>\n",
       "      <td>0.086835</td>\n",
       "      <td>0.043437</td>\n",
       "      <td>0.797374</td>\n",
       "      <td>-0.102322</td>\n",
       "      <td>-0.023489</td>\n",
       "      <td>0.000543</td>\n",
       "    </tr>\n",
       "    <tr>\n",
       "      <th>VitD_levels</th>\n",
       "      <td>0.045276</td>\n",
       "      <td>0.018548</td>\n",
       "      <td>-0.307385</td>\n",
       "      <td>0.628087</td>\n",
       "      <td>0.152291</td>\n",
       "      <td>0.578308</td>\n",
       "      <td>-0.188250</td>\n",
       "      <td>-0.333132</td>\n",
       "      <td>-0.011536</td>\n",
       "      <td>-0.066688</td>\n",
       "    </tr>\n",
       "    <tr>\n",
       "      <th>Doc_visits</th>\n",
       "      <td>-0.009637</td>\n",
       "      <td>0.008204</td>\n",
       "      <td>0.204756</td>\n",
       "      <td>0.466451</td>\n",
       "      <td>0.473305</td>\n",
       "      <td>-0.631168</td>\n",
       "      <td>-0.343307</td>\n",
       "      <td>0.004857</td>\n",
       "      <td>-0.007888</td>\n",
       "      <td>-0.001201</td>\n",
       "    </tr>\n",
       "    <tr>\n",
       "      <th>Full_meals_eaten</th>\n",
       "      <td>-0.027491</td>\n",
       "      <td>0.027060</td>\n",
       "      <td>-0.576735</td>\n",
       "      <td>0.328033</td>\n",
       "      <td>-0.083467</td>\n",
       "      <td>-0.162492</td>\n",
       "      <td>0.296338</td>\n",
       "      <td>0.661087</td>\n",
       "      <td>-0.007763</td>\n",
       "      <td>-0.000556</td>\n",
       "    </tr>\n",
       "    <tr>\n",
       "      <th>VitD_supp</th>\n",
       "      <td>0.035093</td>\n",
       "      <td>0.018135</td>\n",
       "      <td>0.557163</td>\n",
       "      <td>0.213226</td>\n",
       "      <td>-0.233069</td>\n",
       "      <td>0.352540</td>\n",
       "      <td>-0.339604</td>\n",
       "      <td>0.590412</td>\n",
       "      <td>-0.002695</td>\n",
       "      <td>0.003673</td>\n",
       "    </tr>\n",
       "    <tr>\n",
       "      <th>Initial_days</th>\n",
       "      <td>0.702576</td>\n",
       "      <td>-0.056168</td>\n",
       "      <td>0.001775</td>\n",
       "      <td>-0.043159</td>\n",
       "      <td>-0.009428</td>\n",
       "      <td>-0.061650</td>\n",
       "      <td>0.025348</td>\n",
       "      <td>0.025761</td>\n",
       "      <td>-0.035800</td>\n",
       "      <td>-0.703483</td>\n",
       "    </tr>\n",
       "    <tr>\n",
       "      <th>TotalCharge</th>\n",
       "      <td>0.705528</td>\n",
       "      <td>-0.038143</td>\n",
       "      <td>-0.029907</td>\n",
       "      <td>0.019338</td>\n",
       "      <td>0.001142</td>\n",
       "      <td>-0.012485</td>\n",
       "      <td>0.008908</td>\n",
       "      <td>-0.010742</td>\n",
       "      <td>0.031340</td>\n",
       "      <td>0.705814</td>\n",
       "    </tr>\n",
       "    <tr>\n",
       "      <th>Additional_charges</th>\n",
       "      <td>0.049240</td>\n",
       "      <td>0.704780</td>\n",
       "      <td>0.012062</td>\n",
       "      <td>-0.013030</td>\n",
       "      <td>0.021710</td>\n",
       "      <td>-0.000452</td>\n",
       "      <td>0.019539</td>\n",
       "      <td>-0.007691</td>\n",
       "      <td>0.705598</td>\n",
       "      <td>-0.042002</td>\n",
       "    </tr>\n",
       "  </tbody>\n",
       "</table>\n",
       "</div>"
      ],
      "text/plain": [
       "                         PC1       PC2       PC3       PC4       PC5  \\\n",
       "Children            0.010092 -0.018993 -0.011204 -0.326750  0.826680   \n",
       "Age                 0.044273  0.704860  0.002184 -0.036314  0.000028   \n",
       "Income             -0.000515 -0.003781  0.468361  0.352660  0.086835   \n",
       "VitD_levels         0.045276  0.018548 -0.307385  0.628087  0.152291   \n",
       "Doc_visits         -0.009637  0.008204  0.204756  0.466451  0.473305   \n",
       "Full_meals_eaten   -0.027491  0.027060 -0.576735  0.328033 -0.083467   \n",
       "VitD_supp           0.035093  0.018135  0.557163  0.213226 -0.233069   \n",
       "Initial_days        0.702576 -0.056168  0.001775 -0.043159 -0.009428   \n",
       "TotalCharge         0.705528 -0.038143 -0.029907  0.019338  0.001142   \n",
       "Additional_charges  0.049240  0.704780  0.012062 -0.013030  0.021710   \n",
       "\n",
       "                         PC6       PC7       PC8       PC9      PC10  \n",
       "Children            0.332582  0.081417  0.303054 -0.011393  0.006000  \n",
       "Age                -0.006645 -0.004253 -0.015083 -0.706345  0.025994  \n",
       "Income              0.043437  0.797374 -0.102322 -0.023489  0.000543  \n",
       "VitD_levels         0.578308 -0.188250 -0.333132 -0.011536 -0.066688  \n",
       "Doc_visits         -0.631168 -0.343307  0.004857 -0.007888 -0.001201  \n",
       "Full_meals_eaten   -0.162492  0.296338  0.661087 -0.007763 -0.000556  \n",
       "VitD_supp           0.352540 -0.339604  0.590412 -0.002695  0.003673  \n",
       "Initial_days       -0.061650  0.025348  0.025761 -0.035800 -0.703483  \n",
       "TotalCharge        -0.012485  0.008908 -0.010742  0.031340  0.705814  \n",
       "Additional_charges -0.000452  0.019539 -0.007691  0.705598 -0.042002  "
      ]
     },
     "execution_count": 105,
     "metadata": {},
     "output_type": "execute_result"
    }
   ],
   "source": [
    "loadings = pd.DataFrame(pca.components_.T,\n",
    "columns = ['PC1','PC2','PC3','PC4','PC5','PC6','PC7','PC8','PC9','PC10'],\n",
    "index = df_pca_normalized.columns)\n",
    "loadings"
   ]
  },
  {
   "cell_type": "code",
   "execution_count": 106,
   "id": "76fd2c7c",
   "metadata": {},
   "outputs": [],
   "source": [
    "cov_matrix = np.dot(df_pca_normalized.T, df_pca_normalized) / df_pca.shape[0]\n",
    "eigenvalues = [np.dot(eigenvector.T, np.dot(cov_matrix, eigenvector)) for eigenvector in pca.components_]"
   ]
  },
  {
   "cell_type": "code",
   "execution_count": 107,
   "id": "09ee4b29",
   "metadata": {},
   "outputs": [
    {
     "data": {
      "image/png": "[encoded data removed]",
      "text/plain": [
       "<Figure size 640x480 with 1 Axes>"
      ]
     },
     "metadata": {},
     "output_type": "display_data"
    }
   ],
   "source": [
    "plt.plot(eigenvalues)\n",
    "plt.xlabel('number of components')\n",
    "plt.ylabel('eigenvalues')\n",
    "plt.axhline(y=1, color='red')\n",
    "plt.show()"
   ]
  },
  {
   "cell_type": "code",
   "execution_count": 108,
   "id": "f8f142ab",
   "metadata": {},
   "outputs": [
    {
     "name": "stdout",
     "output_type": "stream",
     "text": [
      "[1.9219226786749717, 1.6207168106401517, 1.0337340608264778, 1.013809049772868, 1.0028491235431916, 0.9908222824553936, 0.9864842947295889, 0.97136130584395, 0.3792837085986406, 0.07796405333579234]\n"
     ]
    }
   ],
   "source": [
    "print(eigenvalues)"
   ]
  },
  {
   "cell_type": "code",
   "execution_count": null,
   "id": "7303d8ec",
   "metadata": {},
   "outputs": [],
   "source": []
  }
 ],
 "metadata": {
  "kernelspec": {
   "display_name": "Python 3 (ipykernel)",
   "language": "python",
   "name": "python3"
  },
  "language_info": {
   "codemirror_mode": {
    "name": "ipython",
    "version": 3
   },
   "file_extension": ".py",
   "mimetype": "text/x-python",
   "name": "python",
   "nbconvert_exporter": "python",
   "pygments_lexer": "ipython3",
   "version": "3.11.11"
  }
 },
 "nbformat": 4,
 "nbformat_minor": 5
}
